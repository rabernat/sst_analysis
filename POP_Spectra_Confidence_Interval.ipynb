{
 "cells": [
  {
   "cell_type": "markdown",
   "metadata": {},
   "source": [
    "## Confidence interval ##\n",
    "\n",
    "$$ P\\Big( \\frac{2m\\hat{ \\mathcal{F} }(k_j)}{b} \\leq \\mathcal{F}(k_j) \\leq \\frac{2m\\hat{ \\mathcal{F} }(k_j)}{a} \\Big) = 1-\\alpha \\ \\ (=p) $$\n",
    "\n",
    "where $ \\hat{\\mathcal{F}}(k_j) $ and $ \\mathcal{F}(k_j) $ are the estimated and true spectra respectively, and $1-\\alpha$ is the confidence level ( i.e. $\\alpha=0.05$ for $95\\%$ confidence ). $ a $ and $ b $ are the $ (1-\\alpha)/2 $ and $ \\alpha/2 $ critical values of the $ \\chi^2 (2m) $ distribution and $ m $ is the number of chunks that are added up. The spectra follows the $ \\chi^2 $ distribution because $ \\hat{\\mathcal{F}}^{(n)}(k_j) = \\frac{1}{m} \\sum_{n=0}^m {\\big|z^{(n)}(k_j)\\big|}^2 $.\n",
    "Now the $ p $% confidence range is:\n",
    "\n",
    "$$ \\frac{2m}{b} \\leq \\frac{\\mathcal{F}(k_j)}{\\hat{\\mathcal{F}}(k_j)} \\leq \\frac{2m}{a} $$\n",
    "\n",
    "Written in a log scale, this becomes:\n",
    "\n",
    "$$ log\\Big( \\frac{2m}{b} \\Big) \\leq log\\Big(\\frac{\\mathcal{F}(k_j)}{\\hat{\\mathcal{F}}(k_j)}\\Big) \\leq log\\Big( \\frac{2m}{a} \\Big) $$\n",
    "\n",
    "so the confidence interval is:\n",
    "\n",
    "$$ \\sigma_{log(\\mathcal{F}/\\hat{\\mathcal{F}})} = log\\Big( \\frac{2m}{a} \\Big) - log\\Big( \\frac{2m}{b} \\Big) = log\\Big( \\frac{b}{a} \\Big) = const. $$\n",
    "\n",
    "Another way of writing this is:\n",
    "\n",
    "$$ error_{high} = log\\Big( \\frac{2m}{a} \\Big), \\ error_{low} = log\\Big( \\frac{2m}{b} \\Big) $$\n",
    "\n",
    "so to move the error bar around in the log-log dimension, we can muliply the values inside the lograrithm by an arbitrary factor A and we get:\n",
    "\n",
    "$$ error_{high} = log\\Big( A\\frac{2m}{a} \\Big) = log(A)+log\\Big( \\frac{2m}{a} \\Big) $$\n",
    "$$ error_{low} = log\\Big( A\\frac{2m}{b} \\Big) = log(A)+log\\Big( \\frac{2m}{b} \\Big) $$"
   ]
  },
  {
   "cell_type": "code",
   "execution_count": 1,
   "metadata": {
    "collapsed": true
   },
   "outputs": [],
   "source": [
    "# import numpy, netCDF and matplotlib stuff\n",
    "import numpy as np\n",
    "#import netCDF4\n",
    "from scipy.io import netcdf_file\n",
    "import pylab as pb\n",
    "import netCDF4\n",
    "import os\n",
    "from scipy import signal as sig\n",
    "from scipy import fftpack as fft\n",
    "from scipy import linalg as lin\n",
    "from scipy import stats\n",
    "from matplotlib import pyplot as plt\n",
    "%matplotlib inline"
   ]
  },
  {
   "cell_type": "code",
   "execution_count": null,
   "metadata": {
    "collapsed": true
   },
   "outputs": [],
   "source": []
  },
  {
   "cell_type": "code",
   "execution_count": null,
   "metadata": {
    "collapsed": true
   },
   "outputs": [],
   "source": [
    "alpha = 0.05\n",
    "aJan, bJan = stats.chi2.ppf([1-alpha*0.5, alpha*0.5], 2*NtJan)     # 1-2*(alpha/2) = 1-alpha = p\n",
    "aJul, bJul = stats.chi2.ppf([1-alpha*0.5, alpha*0.5], 2*NtJul)\n",
    "print aJan, bJan"
   ]
  }
 ],
 "metadata": {
  "kernelspec": {
   "display_name": "Python 2.7",
   "language": "python",
   "name": "python2"
  },
  "language_info": {
   "codemirror_mode": {
    "name": "ipython",
    "version": 2
   },
   "file_extension": ".py",
   "mimetype": "text/x-python",
   "name": "python",
   "nbconvert_exporter": "python",
   "pygments_lexer": "ipython2",
   "version": "2.7.10"
  }
 },
 "nbformat": 4,
 "nbformat_minor": 0
}
