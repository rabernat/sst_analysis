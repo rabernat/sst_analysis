{
 "cells": [
  {
   "cell_type": "code",
   "execution_count": 1,
   "metadata": {
    "collapsed": true
   },
   "outputs": [],
   "source": [
    "import numpy\n",
    "import numpy as np\n",
    "import os\n",
    "import xray\n",
    "import netCDF4\n",
    "from scipy import stats\n",
    "from scipy import io\n",
    "from scipy import linalg as lin\n",
    "from sstanalysis import gfd\n",
    "from netCDF4 import Dataset\n",
    "from tempfile import TemporaryFile\n",
    "from scipy import interpolate as naiso\n",
    "from matplotlib import pyplot as plt\n",
    "%matplotlib inline"
   ]
  },
  {
   "cell_type": "code",
   "execution_count": 2,
   "metadata": {
    "collapsed": false
   },
   "outputs": [
    {
     "data": {
      "text/plain": [
       "<module 'sstanalysis.popmodel' from 'sstanalysis/popmodel.pyc'>"
      ]
     },
     "execution_count": 2,
     "metadata": {},
     "output_type": "execute_result"
    }
   ],
   "source": [
    "from sstanalysis import popmodel\n",
    "reload(popmodel)"
   ]
  },
  {
   "cell_type": "code",
   "execution_count": 3,
   "metadata": {
    "collapsed": false
   },
   "outputs": [
    {
     "data": {
      "text/plain": [
       "['/usr/local/anaconda/lib/python2.7/site-packages/ipyparallel']"
      ]
     },
     "execution_count": 3,
     "metadata": {},
     "output_type": "execute_result"
    }
   ],
   "source": [
    "import ipyparallel as ipp\n",
    "ipp.__path__"
   ]
  },
  {
   "cell_type": "code",
   "execution_count": 4,
   "metadata": {
    "collapsed": false
   },
   "outputs": [],
   "source": [
    "c = ipp.Client(profile='parallel2') \n",
    "dview = c.direct_view() \n",
    "lview = c.load_balanced_view() "
   ]
  },
  {
   "cell_type": "code",
   "execution_count": 5,
   "metadata": {
    "collapsed": false
   },
   "outputs": [
    {
     "name": "stdout",
     "output_type": "stream",
     "text": [
      "importing numpy on engine(s)\n",
      "importing os on engine(s)\n",
      "importing netCDF4 on engine(s)\n",
      "importing warnings on engine(s)\n",
      "importing xray on engine(s)\n",
      "importing io from scipy on engine(s)\n",
      "importing interpolate from scipy on engine(s)\n",
      "importing pyplot from matplotlib on engine(s)\n",
      "importing linalg from scipy on engine(s)\n",
      "importing signal from scipy on engine(s)\n",
      "importing fftpack from scipy on engine(s)\n",
      "importing warn from warnings on engine(s)\n"
     ]
    }
   ],
   "source": [
    "with dview.sync_imports():\n",
    "    import numpy\n",
    "    import os\n",
    "    import netCDF4\n",
    "    import warnings\n",
    "    import xray\n",
    "    from scipy import io\n",
    "    from scipy import interpolate\n",
    "    from matplotlib import pyplot\n",
    "    from scipy import linalg\n",
    "    from scipy import signal\n",
    "    from scipy import fftpack\n",
    "    from warnings import warn\n",
    "    #from sstanalysis import popmodel"
   ]
  },
  {
   "cell_type": "code",
   "execution_count": 6,
   "metadata": {
    "collapsed": false
   },
   "outputs": [
    {
     "name": "stdout",
     "output_type": "stream",
     "text": [
      "34 11 420\n",
      "(13, 36)\n"
     ]
    }
   ],
   "source": [
    "dlat, dlon = (10., 10.)\n",
    "lat_start, lat_end = (-60., 50.)\n",
    "lon_start, lon_end = (5., 345.)\n",
    "west, south = (lon_start, lat_start)\n",
    "east, north = (west+dlon, south+dlat)\n",
    "Degx, Degy = (int((lon_end-lon_start)/dlon), int((lat_end-lat_start)/dlat))\n",
    "lon_global = np.arange(lon_start, lon_end+2*dlon, dlon)\n",
    "lat_global = np.arange(lat_start, lat_end+2*dlat, dlat)\n",
    "Lon_global, Lat_global = np.meshgrid(lon_global, lat_global)\n",
    "psd_slopes_Feb_global = np.zeros((Degy+1,Degx+1))\n",
    "#psd_slopes_Aug_global = np.zeros((Degy+1,Degx+1))\n",
    "psd_level_Feb_global = np.zeros((Degy+1,Degx+1))\n",
    "#psd_level_Aug_global = np.zeros((Degy+1,Degx+1))\n",
    "L_1_global = np.zeros((Degy+1,Degx+1)) \n",
    "# base_dir = '/home/../../../data/scratch/rpa/cesm/hybrid_v5_rel04_BC5_ne120_t12_pop62/'\n",
    "\n",
    "print Degx, Degy, (Degx+1)*(Degy+1)\n",
    "print Lon_global.shape"
   ]
  },
  {
   "cell_type": "code",
   "execution_count": 7,
   "metadata": {
    "collapsed": false
   },
   "outputs": [
    {
     "name": "stdout",
     "output_type": "stream",
     "text": [
      "['arr_1', 'arr_0']\n"
     ]
    }
   ],
   "source": [
    "roll = -1080\n",
    "\n",
    "# base_dir = '/data/scratch/takaya/POP_data/Surface_Daily'\n",
    "base_dir = '/data/scratch/takaya/POP_data/Surface_Daily/'\n",
    "fname = os.path.join(base_dir, 'hybrid_v5_rel04_BC5_ne120_t12_pop62.pop.h.nday1.0046-02-01.nc')\n",
    "f = xray.open_dataset(fname, decode_times=False)\n",
    "mask = f.variables['KMT'].values <= 1\n",
    "SSS = f.variables['SSS'].values\n",
    "tlon = np.roll(np.ma.masked_array(f.variables['TLONG'].values, mask), roll, axis=1)\n",
    "tlat = np.roll(np.ma.masked_array(f.variables['TLAT'].values, mask), roll, axis=1)\n",
    "Dz = f['dz'].values[0]*1e-2 \n",
    "\n",
    "\n",
    "lonrange=np.array([lon_start, lon_end])\n",
    "latrange=np.array([lat_start, lat_end+5.])\n",
    "lonmask = (tlon >= lonrange[0]) & (tlon < lonrange[1])\n",
    "latmask = (tlat >= latrange[0]) & (tlat < latrange[1])\n",
    "boxidx = lonmask & latmask # this won't necessarily be square\n",
    "irange = np.where(boxidx.sum(axis=0))[0]\n",
    "imin_bound, imax_bound = irange.min(), irange.max()\n",
    "jrange = np.where(boxidx.sum(axis=1))[0]\n",
    "jmin_bound, jmax_bound = jrange.min(), jrange.max()\n",
    "\n",
    "\n",
    "npzfile = np.load('interpLatnLon.npz')\n",
    "print npzfile.files\n",
    "tlat = npzfile['arr_0']\n",
    "tlon = npzfile['arr_1']"
   ]
  },
  {
   "cell_type": "code",
   "execution_count": 8,
   "metadata": {
    "collapsed": false
   },
   "outputs": [
    {
     "name": "stdout",
     "output_type": "stream",
     "text": [
      "(420, 128) 34 11\n"
     ]
    }
   ],
   "source": [
    "N = 128\n",
    "isospecs_ave_Tforc = np.zeros(( (Degy+1)*(Degx+1), N ))\n",
    "isospecs_ave_Tdiss = np.zeros(( (Degy+1)*(Degx+1), N ))\n",
    "isospecs_ave_Sforc = np.zeros(( (Degy+1)*(Degx+1), N ))\n",
    "isospecs_ave_Sdiss = np.zeros(( (Degy+1)*(Degx+1), N ))\n",
    "isospecs_ave_Tadvt = np.zeros(( (Degy+1)*(Degx+1), N ))\n",
    "isospecs_ave_Sadvt = np.zeros(( (Degy+1)*(Degx+1), N ))\n",
    "Mr = np.zeros(( (Degy+1)*(Degx+1), N ))\n",
    "#Deg_Free = np.zeros(M)\n",
    "print isospecs_ave_Tdiss.shape, Degx, Degy"
   ]
  },
  {
   "cell_type": "code",
   "execution_count": 9,
   "metadata": {
    "collapsed": false,
    "scrolled": true
   },
   "outputs": [
    {
     "name": "stdout",
     "output_type": "stream",
     "text": [
      "['/data/scratch/takaya/POP_data/Surface_Daily/hybrid_v5_rel04_BC5_ne120_t12_pop62.pop.h.nday1.0046-09-01.nc', '/data/scratch/takaya/POP_data/Surface_Daily/hybrid_v5_rel04_BC5_ne120_t12_pop62.pop.h.nday1.0047-09-01.nc', '/data/scratch/takaya/POP_data/Surface_Daily/hybrid_v5_rel04_BC5_ne120_t12_pop62.pop.h.nday1.0048-09-01.nc', '/data/scratch/takaya/POP_data/Surface_Daily/hybrid_v5_rel04_BC5_ne120_t12_pop62.pop.h.nday1.0049-09-01.nc', '/data/scratch/takaya/POP_data/Surface_Daily/hybrid_v5_rel04_BC5_ne120_t12_pop62.pop.h.nday1.0050-09-01.nc', '/data/scratch/takaya/POP_data/Surface_Daily/hybrid_v5_rel04_BC5_ne120_t12_pop62.pop.h.nday1.0051-09-01.nc']\n"
     ]
    }
   ],
   "source": [
    "month = 9\n",
    "# year = 41\n",
    "year = 6\n",
    "fname_mat = ['' for x in range(year)]\n",
    "\n",
    "for yearnum in range(year):\n",
    "    fname = os.path.join(base_dir,\n",
    "                                 'hybrid_v5_rel04_BC5_ne120_t12_pop62.pop.h.nday1.%04d-%02d-01.nc' \n",
    "                                 % (yearnum+46, month))\n",
    "    fname_mat[yearnum] = fname\n",
    "    f = netCDF4.Dataset(fname)\n",
    "#     print yearnum+46\n",
    "        \n",
    "    #for i in range(Nt):\n",
    "        #SSH_masked[i] = 1e-2*np.roll(np.ma.masked_array(f.variables['SSH_2'][i],mask), roll, axis=1)\n",
    "    \n",
    "    #SSH_full[Nt*yearnum:Nt*yearnum+Nt] = SSH_masked[:, jmin_bound:jmax_bound+100, imin_bound:imax_bound+100] \n",
    "    \n",
    "mask_global = np.roll(mask, roll, axis=1)[jmin_bound:jmax_bound+100, imin_bound:imax_bound+100]\n",
    "print fname_mat\n",
    "    \n",
    "Ny, Nx = tlon.shape\n",
    "    \n",
    "dview.scatter('fname_mat', fname_mat)\n",
    "dview['Nx_global'] = Nx\n",
    "dview['Ny_global'] = Ny\n",
    "dview['tlon'] = tlon\n",
    "dview['tlat'] = tlat\n",
    "dview['mask_global'] = mask_global\n",
    "dview['imin_bound'] = imin_bound\n",
    "dview['imax_bound'] = imax_bound\n",
    "dview['jmin_bound'] = jmin_bound\n",
    "dview['jmax_bound'] = jmax_bound\n",
    "dview['lon_start'] = lon_start\n",
    "dview['lon_end'] = lon_end\n",
    "dview['lat_start'] = lat_start\n",
    "dview['lat_end'] = lat_end\n",
    "dview['dlat'] = dlat\n",
    "dview['dlon'] = dlon\n",
    "dview['Degx'] = Degx\n",
    "dview['Degy'] = Degy\n",
    "dview['N'] = N\n",
    "dview['Dz'] = Dz"
   ]
  },
  {
   "cell_type": "code",
   "execution_count": null,
   "metadata": {
    "collapsed": false
   },
   "outputs": [
    {
     "data": {
      "text/plain": [
       "<matplotlib.image.AxesImage at 0x7f6c0aa44c50>"
      ]
     },
     "execution_count": 16,
     "metadata": {},
     "output_type": "execute_result"
    },
    {
     "data": {
      "image/png": "[encoded data removed]",
      "text/plain": [
       "<matplotlib.figure.Figure at 0x7f6bf6008750>"
      ]
     },
     "metadata": {},
     "output_type": "display_data"
    }
   ],
   "source": [
    "plt.imshow(mask_global, origin='bottom')"
   ]
  },
  {
   "cell_type": "code",
   "execution_count": 10,
   "metadata": {
    "collapsed": true
   },
   "outputs": [],
   "source": [
    "%%px\n",
    "\n",
    "def calc_transformation_rates(pop_fname, dz):\n",
    "    \n",
    "    #p = pop_model.POPFile(pop_fname, hconst=dz)\n",
    "    p = popmodel.POPFile(pop_fname, hconst=dz)\n",
    "    p.initialize_gradient_operator()\n",
    "    #Nt = len(p.nc.variables['time'])\n",
    "    #Ny, Nx = p.nc.variables['TLONG'].shape\n",
    "    Nt = len(p.nc['time'])\n",
    "    Ny, Nx = p.nc['TLONG'].shape\n",
    "    Tdot_month = numpy.zeros((Nt, Ny, Nx))\n",
    "    Tmix_month = numpy.zeros_like(Tdot_month)\n",
    "    Sdot_month = numpy.zeros_like(Tdot_month)\n",
    "    Smix_month = numpy.zeros_like(Tdot_month)\n",
    "    \n",
    "#     result = dict()\n",
    "#     for rname in region_dict:\n",
    "#         result[rname] = 0.\n",
    "    \n",
    "    for n in range(Nt):\n",
    "#         print 'day: ', n\n",
    "        \n",
    "        # calculate density fluxes\n",
    "        T, S, FT_forc, FT_mix, FS_forc, FS_mix = p.ts_forcing[n]\n",
    "        FS_mix = numpy.ma.masked_greater(numpy.ma.masked_invalid(FS_mix), 1.)\n",
    "        FT_mix = numpy.ma.masked_greater(numpy.ma.masked_invalid(FT_mix), 1.)\n",
    "        Tdot_month[n] = FT_forc\n",
    "        Sdot_month[n] = FS_forc\n",
    "        Tmix_month[n] = FT_mix\n",
    "        Smix_month[n] = FS_mix\n",
    "        \n",
    "#         for rname, reg in region_dict.iteritems():\n",
    "#             AT, AS = reg.calculate_transformation_rate(\n",
    "#                                 T, S, [FT_forc, FT_mix], [FS_forc, FS_mix])\n",
    "#             result[rname] += numpy.array([AT, AS])\n",
    "\n",
    "#     for rname in region_dict:\n",
    "#         result[rname] /= Nt\n",
    "    \n",
    "    return p, Tdot_month, Tmix_month, Sdot_month, Smix_month"
   ]
  },
  {
   "cell_type": "code",
   "execution_count": 11,
   "metadata": {
    "collapsed": true
   },
   "outputs": [],
   "source": [
    "%%px\n",
    "\n",
    "def calc_gradient(pop_fname, dz):\n",
    "    \n",
    "    p = popmodel.POPFile(pop_fname, hconst=dz)\n",
    "    #p = popmodel.POPFile(pop_fname)\n",
    "    p.initialize_gradient_operator()\n",
    "    #Nt = len(p.nc.variables['time'])\n",
    "    #Ny, Nx = p.nc.variables['TLONG'].shape\n",
    "    Nt = len(p.nc['time'])\n",
    "    Ny, Nx = p.nc['TLONG'].shape\n",
    "#     gradTx_month = np.zeros((Nt, Ny, Nx))\n",
    "#     gradTy_month = np.zeros_like(gradTx_month)\n",
    "#     gradSx_month = np.zeros_like(gradTx_month)\n",
    "#     gradSy_month = np.zeros_like(gradTx_month)\n",
    "    \n",
    "#     result = dict()\n",
    "#     for rname in region_dict:\n",
    "#         result[rname] = 0.\n",
    "    \n",
    "#     print p.nc['SST']\n",
    "    mask, gradTx, gradTy = p.gradient_2d(varname='SST', roll=0)\n",
    "    mask, gradSx, gradSy = p.gradient_2d(varname='SSS', roll=0)\n",
    "#         gradTx_month[n] = gradTx\n",
    "#         gradSx_month[n] = gradSx\n",
    "#         gradTy_month[n] = gradTy\n",
    "#         gradSy_month[n] = gradSy\n",
    "        \n",
    "#         for rname, reg in region_dict.iteritems():\n",
    "#             AT, AS = reg.calculate_transformation_rate(\n",
    "#                                 T, S, [FT_forc, FT_mix], [FS_forc, FS_mix])\n",
    "#             result[rname] += numpy.array([AT, AS])\n",
    "\n",
    "#     for rname in region_dict:\n",
    "#         result[rname] /= Nt\n",
    "    \n",
    "    return p, mask, gradTx, gradTy, gradSx, gradSy"
   ]
  },
  {
   "cell_type": "code",
   "execution_count": 12,
   "metadata": {
    "collapsed": false
   },
   "outputs": [],
   "source": [
    "%%px\n",
    "\n",
    "import sys\n",
    "sys.path.append('/home/takaya/sst_analysis/sstanalysis')\n",
    "import popmodel\n",
    "reload(popmodel)\n",
    "\n",
    "\n",
    "crit = 0.01\n",
    "j,i = (0,0)\n",
    "west, south = (lon_start, lat_start)\n",
    "east, north = (west+dlon, south+dlat)\n",
    "#Lon_global, Lat_global = numpy.meshgrid(lon_global, lat_global)\n",
    "nanarray = numpy.zeros(N)\n",
    "nanarray[:] = numpy.NAN\n",
    "\n",
    "isospecs_month_T_forc = numpy.zeros(((Degx+1)*(Degy+1), N))\n",
    "isospecs_month_S_forc = isospecs_month_T_forc.copy()\n",
    "isospecs_month_T_diss = isospecs_month_T_forc.copy()\n",
    "isospecs_month_S_diss = isospecs_month_T_forc.copy()\n",
    "isospecs_month_T_advt = isospecs_month_T_forc.copy()\n",
    "isospecs_month_S_advt = isospecs_month_T_forc.copy()\n",
    "isospecs_month_S_advt = isospecs_month_T_forc.copy()\n",
    "Kis_month = isospecs_month_T_forc.copy()\n",
    "Mrs_month = isospecs_month_T_forc.copy()"
   ]
  },
  {
   "cell_type": "code",
   "execution_count": 13,
   "metadata": {
    "collapsed": false
   },
   "outputs": [
    {
     "name": "stdout",
     "output_type": "stream",
     "text": [
      "[stdout:0] \n",
      "<popmodel.POPFile object at 0x7f1e6aa8d290>\n",
      "<popmodel.POPFile object at 0x7f1e6aace050>\n",
      "<popmodel.POPFile object at 0x7f1e46f9cd90>\n",
      "<popmodel.POPFile object at 0x7f1e46f92650>\n",
      "<popmodel.POPFile object at 0x7f1e46f06590>\n",
      "<popmodel.POPFile object at 0x7f1e46f5a910>\n",
      "[stdout:1] \n",
      "<popmodel.POPFile object at 0x7ff3903bc290>\n",
      "<popmodel.POPFile object at 0x7ff3903fd050>\n",
      "<popmodel.POPFile object at 0x7ff35ec32090>\n",
      "<popmodel.POPFile object at 0x7ff36c896550>\n",
      "<popmodel.POPFile object at 0x7ff36c8c57d0>\n",
      "<popmodel.POPFile object at 0x7ff36c825950>\n"
     ]
    },
    {
     "name": "stderr",
     "output_type": "stream",
     "text": [
      "[stderr:0] \n",
      "/home/takaya/sst_analysis/sstanalysis/popmodel.py:105: FutureWarning: in the future, boolean array-likes will be handled as a boolean array index\n",
      "  self._ahf[self.mask] = 0.\n",
      "/home/takaya/sst_analysis/sstanalysis/popmodel.py:465: UserWarning: The sector has land (land_fraction=0.000522466) but we are interpolating it out.\n",
      "  warnings.warn(errstr)\n",
      "/home/takaya/sst_analysis/sstanalysis/popmodel.py:465: UserWarning: The sector has land (land_fraction=0.000174155) but we are interpolating it out.\n",
      "  warnings.warn(errstr)\n",
      "/home/takaya/sst_analysis/sstanalysis/popmodel.py:465: UserWarning: The sector has land (land_fraction=0.000928829) but we are interpolating it out.\n",
      "  warnings.warn(errstr)\n",
      "/home/takaya/sst_analysis/sstanalysis/popmodel.py:465: UserWarning: The sector has land (land_fraction=0.00267038) but we are interpolating it out.\n",
      "  warnings.warn(errstr)\n",
      "/home/takaya/sst_analysis/sstanalysis/popmodel.py:465: UserWarning: The sector has land (land_fraction=0.0049344) but we are interpolating it out.\n",
      "  warnings.warn(errstr)\n",
      "/home/takaya/sst_analysis/sstanalysis/popmodel.py:465: UserWarning: The sector has land (land_fraction=0.000348311) but we are interpolating it out.\n",
      "  warnings.warn(errstr)\n",
      "/home/takaya/sst_analysis/sstanalysis/popmodel.py:465: UserWarning: The sector has land (land_fraction=0.00042983) but we are interpolating it out.\n",
      "  warnings.warn(errstr)\n",
      "/home/takaya/sst_analysis/sstanalysis/popmodel.py:465: UserWarning: The sector has land (land_fraction=0.000358192) but we are interpolating it out.\n",
      "  warnings.warn(errstr)\n",
      "/home/takaya/sst_analysis/sstanalysis/popmodel.py:465: UserWarning: The sector has land (land_fraction=0.00164768) but we are interpolating it out.\n",
      "  warnings.warn(errstr)\n",
      "/home/takaya/sst_analysis/sstanalysis/popmodel.py:465: UserWarning: The sector has land (land_fraction=7.23694e-05) but we are interpolating it out.\n",
      "  warnings.warn(errstr)\n",
      "/home/takaya/sst_analysis/sstanalysis/popmodel.py:601: UserWarning: The tendency field (Pif) includes NANs after FFT\n",
      "  warnings.warn(errstr)\n",
      "/home/takaya/sst_analysis/sstanalysis/popmodel.py:465: UserWarning: The sector has land (land_fraction=0.000166959) but we are interpolating it out.\n",
      "  warnings.warn(errstr)\n",
      "/home/takaya/sst_analysis/sstanalysis/popmodel.py:465: UserWarning: The sector has land (land_fraction=0.00376492) but we are interpolating it out.\n",
      "  warnings.warn(errstr)\n",
      "/home/takaya/sst_analysis/sstanalysis/popmodel.py:465: UserWarning: The sector has land (land_fraction=0.00367309) but we are interpolating it out.\n",
      "  warnings.warn(errstr)\n",
      "/home/takaya/sst_analysis/sstanalysis/popmodel.py:465: UserWarning: The sector has land (land_fraction=0.000275482) but we are interpolating it out.\n",
      "  warnings.warn(errstr)\n",
      "/home/takaya/sst_analysis/sstanalysis/popmodel.py:465: UserWarning: The sector has land (land_fraction=9.18274e-05) but we are interpolating it out.\n",
      "  warnings.warn(errstr)\n",
      "/home/takaya/sst_analysis/sstanalysis/popmodel.py:465: UserWarning: The sector has land (land_fraction=9.90295e-05) but we are interpolating it out.\n",
      "  warnings.warn(errstr)\n",
      "/home/takaya/sst_analysis/sstanalysis/popmodel.py:465: UserWarning: The sector has land (land_fraction=0.00326797) but we are interpolating it out.\n",
      "  warnings.warn(errstr)\n",
      "/home/takaya/sst_analysis/sstanalysis/popmodel.py:465: UserWarning: The sector has land (land_fraction=0.00297089) but we are interpolating it out.\n",
      "  warnings.warn(errstr)\n",
      "/home/takaya/sst_analysis/sstanalysis/popmodel.py:465: UserWarning: The sector has land (land_fraction=0.00108932) but we are interpolating it out.\n",
      "  warnings.warn(errstr)\n",
      "/home/takaya/sst_analysis/sstanalysis/popmodel.py:465: UserWarning: The sector has land (land_fraction=0.00010004) but we are interpolating it out.\n",
      "  warnings.warn(errstr)\n",
      "/home/takaya/sst_analysis/sstanalysis/popmodel.py:465: UserWarning: The sector has land (land_fraction=0.00010101) but we are interpolating it out.\n",
      "  warnings.warn(errstr)\n",
      "/home/takaya/sst_analysis/sstanalysis/popmodel.py:465: UserWarning: The sector has land (land_fraction=0.000808081) but we are interpolating it out.\n",
      "  warnings.warn(errstr)\n",
      "/home/takaya/sst_analysis/sstanalysis/popmodel.py:465: UserWarning: The sector has land (land_fraction=0.00555556) but we are interpolating it out.\n",
      "  warnings.warn(errstr)\n",
      "/home/takaya/sst_analysis/sstanalysis/popmodel.py:465: UserWarning: The sector has land (land_fraction=0.00272727) but we are interpolating it out.\n",
      "  warnings.warn(errstr)\n",
      "/home/takaya/sst_analysis/sstanalysis/popmodel.py:465: UserWarning: The sector has land (land_fraction=0.000102041) but we are interpolating it out.\n",
      "  warnings.warn(errstr)\n",
      "/home/takaya/sst_analysis/sstanalysis/popmodel.py:465: UserWarning: The sector has land (land_fraction=0.0010101) but we are interpolating it out.\n",
      "  warnings.warn(errstr)\n",
      "/home/takaya/sst_analysis/sstanalysis/popmodel.py:465: UserWarning: The sector has land (land_fraction=0.00040404) but we are interpolating it out.\n",
      "  warnings.warn(errstr)\n",
      "/home/takaya/sst_analysis/sstanalysis/popmodel.py:465: UserWarning: The sector has land (land_fraction=0.00111111) but we are interpolating it out.\n",
      "  warnings.warn(errstr)\n",
      "/home/takaya/sst_analysis/sstanalysis/popmodel.py:465: UserWarning: The sector has land (land_fraction=0.00881363) but we are interpolating it out.\n",
      "  warnings.warn(errstr)\n",
      "/home/takaya/sst_analysis/sstanalysis/popmodel.py:465: UserWarning: The sector has land (land_fraction=0.000594177) but we are interpolating it out.\n",
      "  warnings.warn(errstr)\n",
      "/home/takaya/sst_analysis/sstanalysis/popmodel.py:465: UserWarning: The sector has land (land_fraction=0.000198059) but we are interpolating it out.\n",
      "  warnings.warn(errstr)\n",
      "/home/takaya/sst_analysis/sstanalysis/popmodel.py:465: UserWarning: The sector has land (land_fraction=0.00713012) but we are interpolating it out.\n",
      "  warnings.warn(errstr)\n",
      "/home/takaya/sst_analysis/sstanalysis/popmodel.py:465: UserWarning: The sector has land (land_fraction=0.000396118) but we are interpolating it out.\n",
      "  warnings.warn(errstr)\n",
      "/home/takaya/sst_analysis/sstanalysis/popmodel.py:465: UserWarning: The sector has land (land_fraction=0.000693207) but we are interpolating it out.\n",
      "  warnings.warn(errstr)\n",
      "/home/takaya/sst_analysis/sstanalysis/popmodel.py:465: UserWarning: The sector has land (land_fraction=0.000495148) but we are interpolating it out.\n",
      "  warnings.warn(errstr)\n",
      "/home/takaya/sst_analysis/sstanalysis/popmodel.py:465: UserWarning: The sector has land (land_fraction=0.00259475) but we are interpolating it out.\n",
      "  warnings.warn(errstr)\n",
      "/home/takaya/sst_analysis/sstanalysis/popmodel.py:465: UserWarning: The sector has land (land_fraction=0.00697888) but we are interpolating it out.\n",
      "  warnings.warn(errstr)\n",
      "/home/takaya/sst_analysis/sstanalysis/popmodel.py:465: UserWarning: The sector has land (land_fraction=0.00330741) but we are interpolating it out.\n",
      "  warnings.warn(errstr)\n",
      "/home/takaya/sst_analysis/sstanalysis/popmodel.py:465: UserWarning: The sector has land (land_fraction=0.00664301) but we are interpolating it out.\n",
      "  warnings.warn(errstr)\n",
      "/home/takaya/sst_analysis/sstanalysis/popmodel.py:465: UserWarning: The sector has land (land_fraction=0.00242991) but we are interpolating it out.\n",
      "  warnings.warn(errstr)\n",
      "/home/takaya/sst_analysis/sstanalysis/popmodel.py:465: UserWarning: The sector has land (land_fraction=0.000673401) but we are interpolating it out.\n",
      "  warnings.warn(errstr)\n",
      "/home/takaya/sst_analysis/sstanalysis/popmodel.py:465: UserWarning: The sector has land (land_fraction=8.73668e-05) but we are interpolating it out.\n",
      "  warnings.warn(errstr)\n",
      "/home/takaya/sst_analysis/sstanalysis/popmodel.py:465: UserWarning: The sector has land (land_fraction=0.0070922) but we are interpolating it out.\n",
      "  warnings.warn(errstr)\n",
      "/home/takaya/sst_analysis/sstanalysis/popmodel.py:465: UserWarning: The sector has land (land_fraction=0.00296792) but we are interpolating it out.\n",
      "  warnings.warn(errstr)\n",
      "/home/takaya/sst_analysis/sstanalysis/popmodel.py:465: UserWarning: The sector has land (land_fraction=0.00650433) but we are interpolating it out.\n",
      "  warnings.warn(errstr)\n",
      "/home/takaya/sst_analysis/sstanalysis/popmodel.py:465: UserWarning: The sector has land (land_fraction=0.00138924) but we are interpolating it out.\n",
      "  warnings.warn(errstr)\n",
      "[stderr:1] \n",
      "/home/takaya/sst_analysis/sstanalysis/popmodel.py:105: FutureWarning: in the future, boolean array-likes will be handled as a boolean array index\n",
      "  self._ahf[self.mask] = 0.\n",
      "/home/takaya/sst_analysis/sstanalysis/popmodel.py:465: UserWarning: The sector has land (land_fraction=0.000522466) but we are interpolating it out.\n",
      "  warnings.warn(errstr)\n",
      "/home/takaya/sst_analysis/sstanalysis/popmodel.py:465: UserWarning: The sector has land (land_fraction=0.000174155) but we are interpolating it out.\n",
      "  warnings.warn(errstr)\n",
      "/home/takaya/sst_analysis/sstanalysis/popmodel.py:465: UserWarning: The sector has land (land_fraction=0.000928829) but we are interpolating it out.\n",
      "  warnings.warn(errstr)\n",
      "/home/takaya/sst_analysis/sstanalysis/popmodel.py:465: UserWarning: The sector has land (land_fraction=0.00267038) but we are interpolating it out.\n",
      "  warnings.warn(errstr)\n",
      "/home/takaya/sst_analysis/sstanalysis/popmodel.py:465: UserWarning: The sector has land (land_fraction=0.0049344) but we are interpolating it out.\n",
      "  warnings.warn(errstr)\n",
      "/home/takaya/sst_analysis/sstanalysis/popmodel.py:465: UserWarning: The sector has land (land_fraction=0.000348311) but we are interpolating it out.\n",
      "  warnings.warn(errstr)\n",
      "/home/takaya/sst_analysis/sstanalysis/popmodel.py:465: UserWarning: The sector has land (land_fraction=0.00042983) but we are interpolating it out.\n",
      "  warnings.warn(errstr)\n",
      "/home/takaya/sst_analysis/sstanalysis/popmodel.py:465: UserWarning: The sector has land (land_fraction=0.000358192) but we are interpolating it out.\n",
      "  warnings.warn(errstr)\n",
      "/home/takaya/sst_analysis/sstanalysis/popmodel.py:465: UserWarning: The sector has land (land_fraction=0.00164768) but we are interpolating it out.\n",
      "  warnings.warn(errstr)\n",
      "/home/takaya/sst_analysis/sstanalysis/popmodel.py:465: UserWarning: The sector has land (land_fraction=7.23694e-05) but we are interpolating it out.\n",
      "  warnings.warn(errstr)\n",
      "/home/takaya/sst_analysis/sstanalysis/popmodel.py:601: UserWarning: The tendency field (Pif) includes NANs after FFT\n",
      "  warnings.warn(errstr)\n",
      "/home/takaya/sst_analysis/sstanalysis/popmodel.py:465: UserWarning: The sector has land (land_fraction=0.000166959) but we are interpolating it out.\n",
      "  warnings.warn(errstr)\n",
      "/home/takaya/sst_analysis/sstanalysis/popmodel.py:465: UserWarning: The sector has land (land_fraction=0.00376492) but we are interpolating it out.\n",
      "  warnings.warn(errstr)\n",
      "/home/takaya/sst_analysis/sstanalysis/popmodel.py:465: UserWarning: The sector has land (land_fraction=0.00367309) but we are interpolating it out.\n",
      "  warnings.warn(errstr)\n",
      "/home/takaya/sst_analysis/sstanalysis/popmodel.py:465: UserWarning: The sector has land (land_fraction=0.000275482) but we are interpolating it out.\n",
      "  warnings.warn(errstr)\n",
      "/home/takaya/sst_analysis/sstanalysis/popmodel.py:465: UserWarning: The sector has land (land_fraction=9.18274e-05) but we are interpolating it out.\n",
      "  warnings.warn(errstr)\n",
      "/home/takaya/sst_analysis/sstanalysis/popmodel.py:465: UserWarning: The sector has land (land_fraction=9.90295e-05) but we are interpolating it out.\n",
      "  warnings.warn(errstr)\n",
      "/home/takaya/sst_analysis/sstanalysis/popmodel.py:465: UserWarning: The sector has land (land_fraction=0.00326797) but we are interpolating it out.\n",
      "  warnings.warn(errstr)\n",
      "/home/takaya/sst_analysis/sstanalysis/popmodel.py:465: UserWarning: The sector has land (land_fraction=0.00297089) but we are interpolating it out.\n",
      "  warnings.warn(errstr)\n",
      "/home/takaya/sst_analysis/sstanalysis/popmodel.py:465: UserWarning: The sector has land (land_fraction=0.00108932) but we are interpolating it out.\n",
      "  warnings.warn(errstr)\n",
      "/home/takaya/sst_analysis/sstanalysis/popmodel.py:465: UserWarning: The sector has land (land_fraction=0.00010004) but we are interpolating it out.\n",
      "  warnings.warn(errstr)\n",
      "/home/takaya/sst_analysis/sstanalysis/popmodel.py:465: UserWarning: The sector has land (land_fraction=0.00010101) but we are interpolating it out.\n",
      "  warnings.warn(errstr)\n",
      "/home/takaya/sst_analysis/sstanalysis/popmodel.py:465: UserWarning: The sector has land (land_fraction=0.000808081) but we are interpolating it out.\n",
      "  warnings.warn(errstr)\n",
      "/home/takaya/sst_analysis/sstanalysis/popmodel.py:465: UserWarning: The sector has land (land_fraction=0.00555556) but we are interpolating it out.\n",
      "  warnings.warn(errstr)\n",
      "/home/takaya/sst_analysis/sstanalysis/popmodel.py:465: UserWarning: The sector has land (land_fraction=0.00272727) but we are interpolating it out.\n",
      "  warnings.warn(errstr)\n",
      "/home/takaya/sst_analysis/sstanalysis/popmodel.py:465: UserWarning: The sector has land (land_fraction=0.000102041) but we are interpolating it out.\n",
      "  warnings.warn(errstr)\n",
      "/home/takaya/sst_analysis/sstanalysis/popmodel.py:465: UserWarning: The sector has land (land_fraction=0.0010101) but we are interpolating it out.\n",
      "  warnings.warn(errstr)\n",
      "/home/takaya/sst_analysis/sstanalysis/popmodel.py:465: UserWarning: The sector has land (land_fraction=0.00040404) but we are interpolating it out.\n",
      "  warnings.warn(errstr)\n",
      "/home/takaya/sst_analysis/sstanalysis/popmodel.py:465: UserWarning: The sector has land (land_fraction=0.00111111) but we are interpolating it out.\n",
      "  warnings.warn(errstr)\n",
      "/home/takaya/sst_analysis/sstanalysis/popmodel.py:465: UserWarning: The sector has land (land_fraction=0.00881363) but we are interpolating it out.\n",
      "  warnings.warn(errstr)\n",
      "/home/takaya/sst_analysis/sstanalysis/popmodel.py:465: UserWarning: The sector has land (land_fraction=0.000594177) but we are interpolating it out.\n",
      "  warnings.warn(errstr)\n",
      "/home/takaya/sst_analysis/sstanalysis/popmodel.py:465: UserWarning: The sector has land (land_fraction=0.000198059) but we are interpolating it out.\n",
      "  warnings.warn(errstr)\n",
      "/home/takaya/sst_analysis/sstanalysis/popmodel.py:465: UserWarning: The sector has land (land_fraction=0.00713012) but we are interpolating it out.\n",
      "  warnings.warn(errstr)\n",
      "/home/takaya/sst_analysis/sstanalysis/popmodel.py:465: UserWarning: The sector has land (land_fraction=0.000396118) but we are interpolating it out.\n",
      "  warnings.warn(errstr)\n",
      "/home/takaya/sst_analysis/sstanalysis/popmodel.py:465: UserWarning: The sector has land (land_fraction=0.000693207) but we are interpolating it out.\n",
      "  warnings.warn(errstr)\n",
      "/home/takaya/sst_analysis/sstanalysis/popmodel.py:465: UserWarning: The sector has land (land_fraction=0.000495148) but we are interpolating it out.\n",
      "  warnings.warn(errstr)\n",
      "/home/takaya/sst_analysis/sstanalysis/popmodel.py:465: UserWarning: The sector has land (land_fraction=0.00259475) but we are interpolating it out.\n",
      "  warnings.warn(errstr)\n",
      "/home/takaya/sst_analysis/sstanalysis/popmodel.py:465: UserWarning: The sector has land (land_fraction=0.00697888) but we are interpolating it out.\n",
      "  warnings.warn(errstr)\n",
      "/home/takaya/sst_analysis/sstanalysis/popmodel.py:465: UserWarning: The sector has land (land_fraction=0.00330741) but we are interpolating it out.\n",
      "  warnings.warn(errstr)\n",
      "/home/takaya/sst_analysis/sstanalysis/popmodel.py:465: UserWarning: The sector has land (land_fraction=0.00664301) but we are interpolating it out.\n",
      "  warnings.warn(errstr)\n",
      "/home/takaya/sst_analysis/sstanalysis/popmodel.py:465: UserWarning: The sector has land (land_fraction=0.00242991) but we are interpolating it out.\n",
      "  warnings.warn(errstr)\n",
      "/home/takaya/sst_analysis/sstanalysis/popmodel.py:465: UserWarning: The sector has land (land_fraction=0.000673401) but we are interpolating it out.\n",
      "  warnings.warn(errstr)\n",
      "/home/takaya/sst_analysis/sstanalysis/popmodel.py:465: UserWarning: The sector has land (land_fraction=8.73668e-05) but we are interpolating it out.\n",
      "  warnings.warn(errstr)\n",
      "/home/takaya/sst_analysis/sstanalysis/popmodel.py:465: UserWarning: The sector has land (land_fraction=0.0070922) but we are interpolating it out.\n",
      "  warnings.warn(errstr)\n",
      "/home/takaya/sst_analysis/sstanalysis/popmodel.py:465: UserWarning: The sector has land (land_fraction=0.00296792) but we are interpolating it out.\n",
      "  warnings.warn(errstr)\n",
      "/home/takaya/sst_analysis/sstanalysis/popmodel.py:465: UserWarning: The sector has land (land_fraction=0.00650433) but we are interpolating it out.\n",
      "  warnings.warn(errstr)\n",
      "/home/takaya/sst_analysis/sstanalysis/popmodel.py:465: UserWarning: The sector has land (land_fraction=0.00138924) but we are interpolating it out.\n",
      "  warnings.warn(errstr)\n"
     ]
    }
   ],
   "source": [
    "%%px\n",
    "\n",
    "for yearnum in range(len(fname_mat)):\n",
    "    \n",
    "    \n",
    "#     print fname_mat[yearnum]\n",
    "    \n",
    "    p, Tdot, Tmix, Sdot, Smix = calc_transformation_rates(fname_mat[yearnum], Dz)\n",
    "    print p\n",
    "\n",
    "    p.nc['T_forc'] = xray.DataArray( Tdot, dims=p.nc['SST'].dims, coords=p.nc['SST'].coords )\n",
    "    p.nc['S_forc'] = xray.DataArray( Sdot, dims=p.nc['SSS'].dims, coords=p.nc['SSS'].coords )\n",
    "    p.nc['T_diss'] = xray.DataArray( Tmix, dims=p.nc['SST'].dims, coords=p.nc['SST'].coords )\n",
    "    p.nc['S_diss'] = xray.DataArray( Smix, dims=p.nc['SSS'].dims, coords=p.nc['SSS'].coords )\n",
    "    \n",
    "    q, mask_grad, gradSSTx, gradSSTy, gradSSSx, gradSSSy = calc_gradient(fname_mat[yearnum], Dz)\n",
    "    print q\n",
    "\n",
    "    q.nc['gradTx'] = xray.DataArray( gradSSTx, dims=q.nc['U1_1'].dims, coords=q.nc['U1_1'].coords )\n",
    "    q.nc['gradTy'] = xray.DataArray( gradSSTy, dims=q.nc['V1_1'].dims, coords=q.nc['V1_1'].coords )\n",
    "    q.nc['gradSx'] = xray.DataArray( gradSSSx, dims=q.nc['U1_1'].dims, coords=q.nc['U1_1'].coords )\n",
    "    q.nc['gradSy'] = xray.DataArray( gradSSSy, dims=q.nc['V1_1'].dims, coords=q.nc['V1_1'].coords )\n",
    "     \n",
    "    \n",
    "    \n",
    "    while south < lat_end+dlat:\n",
    "        west = lon_start\n",
    "        east = west+dlon\n",
    "        i = 0\n",
    "        while west < lon_end+dlon:\n",
    "            \n",
    "#             print east, west, south, north\n",
    "            \n",
    "            lonrange = numpy.array([west, east])\n",
    "            latrange = numpy.array([south, north])\n",
    "            lonmask = (tlon >= lonrange[0]) & (tlon < lonrange[1])\n",
    "            latmask = (tlat >= latrange[0]) & (tlat < latrange[1])\n",
    "            boxidx = lonmask & latmask # this won't necessarily be square\n",
    "            irange = numpy.where(boxidx.sum(axis=0))[0]\n",
    "            imin, imax = irange.min(), irange.max()\n",
    "            jrange = numpy.where(boxidx.sum(axis=1))[0]\n",
    "            jmin, jmax = jrange.min(), jrange.max()\n",
    "\n",
    "            region_mask = mask_global[jmin:jmax, imin:imax]\n",
    "            Ny, Nx = region_mask.shape\n",
    "            land_fraction = region_mask.sum().astype('f8') / (Ny*Nx)\n",
    "            #SSH_domain = SSH[..., jmin:jmax, imin:imax]\n",
    "\n",
    "    \n",
    "            if south < lat_end+dlat:\n",
    "                if west < lon_end+dlon:\n",
    "                    if land_fraction<crit:\n",
    "                    #print 'Index range (i): ', imin, imax\n",
    "                    #print 'Index range (j): ', jmin, jmax\n",
    "                    # February\n",
    "                    #NtFeb = 0.\n",
    "                    # load data files\n",
    "\n",
    "                        \n",
    "                        # Temperature forcing\n",
    "                        Neff, Nt_month, Nx, Ny, k, l, spatial, tilde, breve, Ki, isospec, area, land_frac, MAX_LAND = p.spectrum_2d(\n",
    "                                                varname='SST', tendname='T_forc', crossspec=True, detrend=True, roll=-1080, \n",
    "                                                xmin=imin, xmax=imax, ymin=jmin, ymax=jmax, \n",
    "                                                ymin_bound=jmin_bound, ymax_bound=jmax_bound, xmin_bound=imin_bound, xmax_bound=imax_bound)\n",
    "                        \n",
    "                        isospecs_month_T_forc[(Degx+1)*j+i] += isospec\n",
    "#                         print 'Temp forcing OK'\n",
    "\n",
    "                        \n",
    "                        # Salinity forcing\n",
    "                        Neff, Nt_month, Nx, Ny, k, l, spatial, tilde, breve, Ki, isospec, area, land_frac, MAX_LAND = p.spectrum_2d(\n",
    "                                                varname='SSS', tendname='S_forc', crossspec=True, detrend=True, roll=-1080, \n",
    "                                                xmin=imin, xmax=imax, ymin=jmin, ymax=jmax, \n",
    "                                                ymin_bound=jmin_bound, ymax_bound=jmax_bound, xmin_bound=imin_bound, xmax_bound=imax_bound)\n",
    "\n",
    "                        isospecs_month_S_forc[(Degx+1)*j+i] += isospec\n",
    "#                         if yearnum == len(fname)-1:\n",
    "#                             isospecs_month_S_forc[(Degx+1)*j+i] = isospec_sum_month_Sf[(Degx+1)*j+i]\n",
    "#                         print 'Salinity forcing OK'\n",
    "\n",
    "                        \n",
    "                        # Temperature dissipation\n",
    "                        Neff, Nt_month, Nx, Ny, k, l, spatial, tilde, breve, Ki, isospec, area, land_frac, MAX_LAND = p.spectrum_2d(\n",
    "                                                varname='SST', tendname='T_diss', crossspec=True, detrend=False, roll=-1080, \n",
    "                                                xmin=imin, xmax=imax, ymin=jmin, ymax=jmax, \n",
    "                                                ymin_bound=jmin_bound, ymax_bound=jmax_bound, xmin_bound=imin_bound, xmax_bound=imax_bound)        \n",
    "                        \n",
    "                        isospecs_month_T_diss[(Degx+1)*j+i] += isospec\n",
    "#                         if yearnum == len(fname)-1:\n",
    "#                             isospecs_month_T_diss[(Degx+1)*j+i] = isospec_sum_month_Td[(Degx+1)*j+i]\n",
    "#                         print 'Temp dissipation OK'\n",
    "\n",
    "\n",
    "                        # Salinity dissipation\n",
    "                        Neff, Nt_month, Nx, Ny, k, l, spatial, tilde, breve, Ki, isospec, area, land_frac, MAX_LAND = p.spectrum_2d(\n",
    "                                                varname='SSS', tendname='S_diss', crossspec=True, detrend=False, roll=-1080, \n",
    "                                                xmin=imin, xmax=imax, ymin=jmin, ymax=jmax, \n",
    "                                                ymin_bound=jmin_bound, ymax_bound=jmax_bound, xmin_bound=imin_bound, xmax_bound=imax_bound)\n",
    "\n",
    "                        isospecs_month_S_diss[(Degx+1)*j+i] += isospec\n",
    "#                         if yearnum == len(fname)-1:\n",
    "#                             isospecs_month_S_diss[(Degx+1)*j+i] = isospec_sum_month_Sd[(Degx+1)*j+i]\n",
    "#                         print 'Salinity dissipation OK'\n",
    "\n",
    "                        \n",
    "                        # Temperature advection\n",
    "                        Neff, Nt_month, Nx, Ny, k, l, spatial, tilde, breve, Ki, isospec, area, land_frac, MAX_LAND = q.spectrum_2d(\n",
    "                                                varname='SST', gradxname='gradTx', gradyname='gradTy', advt=True, detrend=True, roll=-1080, \n",
    "                                                xmin=imin, xmax=imax, ymin=jmin, ymax=jmax, \n",
    "                                                ymin_bound=jmin_bound, ymax_bound=jmax_bound, xmin_bound=imin_bound, xmax_bound=imax_bound)\n",
    "                     \n",
    "                        isospecs_month_T_advt[(Degx+1)*j+i] += isospec\n",
    "#                         if yearnum == len(fname)-1:\n",
    "#                             isospecs_month_T_advt[(Degx+1)*j+i] = isospec_sum_month_Ta[(Degx+1)*j+i]\n",
    "#                         print 'Temp advection OK'\n",
    "    \n",
    "                        \n",
    "                        # Salinity advection\n",
    "                        Neff, Nt_month, Nx, Ny, k, l, spatial, tilde, breve, Ki, isospec, area, land_frac, MAX_LAND = q.spectrum_2d(\n",
    "                                                varname='SSS', gradxname='gradSx', gradyname='gradSy', advt=True, detrend=True, roll=-1080, \n",
    "                                                xmin=imin, xmax=imax, ymin=jmin, ymax=jmax, \n",
    "                                                ymin_bound=jmin_bound, ymax_bound=jmax_bound, xmin_bound=imin_bound, xmax_bound=imax_bound)\n",
    "\n",
    "                        isospecs_month_S_advt[(Degx+1)*j+i] += isospec\n",
    "#                         print 'Salinity advection OK'\n",
    "                        if yearnum == 0:\n",
    "#                             isospecs_month_S_advt[(Degx+1)*j+i] = isospec_sum_month_Sa[(Degx+1)*j+i]\n",
    "                            Kis_month[(Degx+1)*j+i] = Ki\n",
    "                            Mrs_month[(Degx+1)*j+i] = area\n",
    "                        \n",
    "               \n",
    "                    else:\n",
    "                        if yearnum == 0:\n",
    "                            isospecs_month_T_forc[(Degx+1)*j+i] = nanarray\n",
    "                            isospecs_month_S_forc[(Degx+1)*j+i] = nanarray\n",
    "                            isospecs_month_T_diss[(Degx+1)*j+i] = nanarray\n",
    "                            isospecs_month_S_diss[(Degx+1)*j+i] = nanarray\n",
    "                            isospecs_month_T_advt[(Degx+1)*j+i] = nanarray\n",
    "                            isospecs_month_S_advt[(Degx+1)*j+i] = nanarray\n",
    "                            Kis_month[(Degx+1)*j+i] = nanarray\n",
    "                            Mrs_month[(Degx+1)*j+i] = nanarray\n",
    "                        else:\n",
    "                            pass\n",
    "                        #if (Degx+1)*j+i>=400:\n",
    "                        #    print (Degx+1)*j+i\n",
    "                        #    print isospecs_month[(Degx+1)*j+i]\n",
    "                        #print 'Too much land coverage'\n",
    "                        #Lon_global[j,i] = tlon[jmin,imin]\n",
    "                        #Lat_global[j,i] = tlat[jmin,imin]\n",
    "                        #Lon_max[j,i] = tlon[jmin,imax]\n",
    "                        #Lat_max[j,i] = tlat[jmax,imin]\n",
    "                        #Lon_upright_corn = tlon[jmax,imax]\n",
    "                        #Lat_upright_corn = tlat[jmax,imax]\n",
    "                        #psd_slopes_Feb_global[j,i] = np.nan\n",
    "                        #psd_slopes_Aug_global[j,i] = np.nan\n",
    "                        #psd_level_Feb_global[j,i] = np.nan\n",
    "                        #psd_level_Aug_global[j,i] = np.nan\n",
    "                        #L_1_global[j,i] = np.nan\n",
    "            \n",
    "                        #plt.figure(figsize=(15,4))\n",
    "                        #plt.subplot(121)\n",
    "                        #plt.pcolormesh(tlon[jmin:jmax, imin:imax], tlat[jmin:jmax, imin:imax], SST_domain)\n",
    "                        #plt.title('SST (Land coverage: %g)' % land_frac, fontsize=16)\n",
    "                        #plt.xticks(fontsize=14)\n",
    "                        #plt.yticks(fontsize=14)\n",
    "                #else:\n",
    "                    #Lon_global[j,i] = tlon[jmin,imin]\n",
    "                    #Lat_global[j,i] = tlat[jmin,imin]\n",
    "            #else:\n",
    "                #Lon_global[j,i] = tlon[jmin,imin]\n",
    "                #Lat_global[j,i] = tlat[jmin,imin]\n",
    "        \n",
    "            #if i>0:\n",
    "                #print 'Zonal range is: ', Lon_global[j,i-1], Lon_global[j,i]\n",
    "            #if j>0 and i==0:\n",
    "                #print '  Meridional range is: ', Lat_global[j-1,i], Lat_global[j,i]\n",
    "            west = east\n",
    "            east = west+dlon\n",
    "            i += 1\n",
    "    \n",
    "        south = north\n",
    "        north = south+dlat\n",
    "        j += 1\n",
    "    \n",
    "  "
   ]
  },
  {
   "cell_type": "code",
   "execution_count": 14,
   "metadata": {
    "collapsed": false,
    "scrolled": true
   },
   "outputs": [],
   "source": [
    "%%px\n",
    "\n",
    "isospecs_T_forc = numpy.reshape(isospecs_month_T_forc.copy(), (Degx+1)*(Degy+1)*N)\n",
    "isospecs_S_forc = numpy.reshape(isospecs_month_S_forc.copy(), (Degx+1)*(Degy+1)*N)\n",
    "isospecs_T_diss = numpy.reshape(isospecs_month_T_diss.copy(), (Degx+1)*(Degy+1)*N)\n",
    "isospecs_S_diss = numpy.reshape(isospecs_month_S_diss.copy(), (Degx+1)*(Degy+1)*N)\n",
    "isospecs_T_advt = numpy.reshape(isospecs_month_T_advt.copy(), (Degx+1)*(Degy+1)*N)\n",
    "isospecs_S_advt = numpy.reshape(isospecs_month_S_advt.copy(), (Degx+1)*(Degy+1)*N)\n",
    "Kis = numpy.reshape(Kis_month.copy(), (Degx+1)*(Degy+1)*N)\n",
    "Mrs = numpy.reshape(Mrs_month.copy(), (Degx+1)*(Degy+1)*N)"
   ]
  },
  {
   "cell_type": "code",
   "execution_count": 15,
   "metadata": {
    "collapsed": false
   },
   "outputs": [
    {
     "name": "stdout",
     "output_type": "stream",
     "text": [
      "(420, 128) (420, 128) [[    0.    18.    36. ...,  3888.  3852.  2952.]\n",
      " [    0.    18.    36. ...,  3888.  3852.  2952.]\n",
      " [    0.    18.    36. ...,  3888.  3852.  2952.]\n",
      " ..., \n",
      " [    0.    18.    36. ...,  2232.  3024.  2376.]\n",
      " [    0.    18.    36. ...,  2340.  2412.  2088.]\n",
      " [   nan    nan    nan ...,    nan    nan    nan]]\n"
     ]
    }
   ],
   "source": [
    "Neff = dview['Neff']\n",
    "isospecs_full_month_T_forc = dview.gather('isospecs_T_forc').get()\n",
    "isospecs_full_month_S_forc = dview.gather('isospecs_S_forc').get()\n",
    "isospecs_full_month_T_diss = dview.gather('isospecs_T_diss').get()\n",
    "isospecs_full_month_S_diss = dview.gather('isospecs_S_diss').get()\n",
    "isospecs_full_month_T_advt = dview.gather('isospecs_T_advt').get()\n",
    "isospecs_full_month_S_advt = dview.gather('isospecs_S_advt').get()\n",
    "Kis_full_month = dview.gather('Kis').get()\n",
    "Mrs_full_month = dview.gather('Mrs').get()\n",
    "\n",
    "#############\n",
    "cluster_num = 2\n",
    "#############\n",
    "isospecs_full_T_forc = np.reshape(isospecs_full_month_T_forc,\n",
    "                                  (cluster_num, isospecs_full_month_T_forc.shape[0]/N/cluster_num,N))\n",
    "isospecs_full_S_forc = np.reshape(isospecs_full_month_S_forc,\n",
    "                                  (cluster_num, isospecs_full_month_S_forc.shape[0]/N/cluster_num,N))\n",
    "isospecs_full_T_diss = np.reshape(isospecs_full_month_T_diss,\n",
    "                                  (cluster_num, isospecs_full_month_T_diss.shape[0]/N/cluster_num,N))\n",
    "isospecs_full_S_diss = np.reshape(isospecs_full_month_S_diss,\n",
    "                                  (cluster_num, isospecs_full_month_S_diss.shape[0]/N/cluster_num,N))\n",
    "isospecs_full_T_advt = np.reshape(isospecs_full_month_T_advt,\n",
    "                                  (cluster_num, isospecs_full_month_T_advt.shape[0]/N/cluster_num,N))\n",
    "isospecs_full_S_advt = np.reshape(isospecs_full_month_S_advt,\n",
    "                                  (cluster_num, isospecs_full_month_S_advt.shape[0]/N/cluster_num,N))\n",
    "Kis = np.reshape(Kis_full_month, \n",
    "                 (cluster_num, isospecs_full_month_T_advt.shape[0]/N/cluster_num,N))[0]\n",
    "Mrs = np.reshape(Mrs_full_month, \n",
    "                 (cluster_num, isospecs_full_month_T_advt.shape[0]/N/cluster_num,N))[0]\n",
    "\n",
    "year_num = year\n",
    "isospecs_ave_Tforc = isospecs_full_T_forc.sum(axis=0)/(year_num*Neff[0]) \n",
    "isospecs_ave_Tdiss = isospecs_full_T_diss.sum(axis=0)/(year_num*Neff[0]) \n",
    "isospecs_ave_Sforc = isospecs_full_S_forc.sum(axis=0)/(year_num*Neff[0]) \n",
    "isospecs_ave_Sdiss = isospecs_full_S_diss.sum(axis=0)/(year_num*Neff[0]) \n",
    "isospecs_ave_Tadvt = isospecs_full_T_advt.sum(axis=0)/(year_num*Neff[0]) \n",
    "isospecs_ave_Sadvt = isospecs_full_S_advt.sum(axis=0)/(year_num*Neff[0]) \n",
    "Deg_Free = Neff[0]*year_num*Mrs\n",
    "print isospecs_ave_Tforc.shape, isospecs_full_T_forc.sum(axis=0).shape, Deg_Free"
   ]
  },
  {
   "cell_type": "code",
   "execution_count": null,
   "metadata": {
    "collapsed": false
   },
   "outputs": [],
   "source": [
    "# year_num = year\n",
    "# isospecs_ave_Tforc = isospecs_month_T_forc/(year_num*Neff) \n",
    "# isospecs_ave_Tdiss = isospecs_month_T_diss/(year_num*Neff) \n",
    "# isospecs_ave_Sforc = isospecs_month_S_forc/(year_num*Neff) \n",
    "# isospecs_ave_Sdiss = isospecs_month_S_diss/(year_num*Neff) \n",
    "# isospecs_ave_Tadvt = isospecs_month_T_advt/(year_num*Neff) \n",
    "# isospecs_ave_Sadvt = isospecs_month_S_advt/(year_num*Neff) \n",
    "# Deg_Free = Neff*year_num*area\n",
    "# # print isospecs_ave_Tforc.shape, isospecs_full_T_forc.sum(axis=0).shape, Deg_Free"
   ]
  },
  {
   "cell_type": "code",
   "execution_count": null,
   "metadata": {
    "collapsed": true
   },
   "outputs": [],
   "source": [
    "# Kis = Kis_month"
   ]
  },
  {
   "cell_type": "code",
   "execution_count": null,
   "metadata": {
    "collapsed": true
   },
   "outputs": [],
   "source": [
    "# np.savez('SSTSSStendency_test_January_parallel', \n",
    "#          Tforc=isospecs_ave_Tforc, Sforc=isospecs_ave_Sforc,\n",
    "#          Tdiss=isospecs_ave_Tdiss, Sdiss=isospecs_ave_Sdiss,\n",
    "#          Tadvt=isospecs_ave_Tadvt, Sadvt=isospecs_ave_Sadvt,\n",
    "#          Ki=Kis, Deg_Freedom=Deg_Free)"
   ]
  },
  {
   "cell_type": "code",
   "execution_count": 31,
   "metadata": {
    "collapsed": false
   },
   "outputs": [
    {
     "name": "stdout",
     "output_type": "stream",
     "text": [
      "['Tdiss', 'Sadvt', 'Deg_Freedom', 'Sforc', 'Sdiss', 'Tforc', 'Tadvt', 'Ki']\n"
     ]
    }
   ],
   "source": [
    "# npzfile = np.load('SSTSSStendency_test_January_parallel.npz')\n",
    "# print npzfile.files\n",
    "# Tforc_test = npzfile['Tforc']\n",
    "# Kis = npzfile['Ki']\n",
    "# Neff_Jan = npzfile['Deg_Freedom']"
   ]
  },
  {
   "cell_type": "code",
   "execution_count": 36,
   "metadata": {
    "collapsed": false
   },
   "outputs": [
    {
     "data": {
      "text/plain": [
       "<matplotlib.collections.QuadMesh at 0x7f5750108050>"
      ]
     },
     "execution_count": 36,
     "metadata": {},
     "output_type": "execute_result"
    },
    {
     "data": {
      "image/png": "[encoded data removed]",
      "text/plain": [
       "<matplotlib.figure.Figure at 0x7f57502d0510>"
      ]
     },
     "metadata": {},
     "output_type": "display_data"
    }
   ],
   "source": [
    "# Tforc_test_Jan = np.reshape(Tforc_test_Jan, ((Degy+1), (Degx+1), N))\n",
    "# plt.pcolormesh(np.ma.masked_invalid(Tforc_test_Jan[:,:,1]))"
   ]
  },
  {
   "cell_type": "code",
   "execution_count": 16,
   "metadata": {
    "collapsed": true
   },
   "outputs": [],
   "source": [
    "np.savez('SSTSSStendency_September_parallel', \n",
    "         Tforc=isospecs_ave_Tforc, Sforc=isospecs_ave_Sforc,\n",
    "         Tdiss=isospecs_ave_Tdiss, Sdiss=isospecs_ave_Sdiss,\n",
    "         Tadvt=isospecs_ave_Tadvt, Sadvt=isospecs_ave_Sadvt,\n",
    "         Ki=Kis, Deg_Freedom=Deg_Free)"
   ]
  },
  {
   "cell_type": "code",
   "execution_count": 17,
   "metadata": {
    "collapsed": false
   },
   "outputs": [
    {
     "name": "stdout",
     "output_type": "stream",
     "text": [
      "['Tdiss', 'Sadvt', 'Deg_Freedom', 'Sforc', 'Sdiss', 'Tforc', 'Tadvt', 'Ki']\n"
     ]
    }
   ],
   "source": [
    "npzfile = np.load('SSTSSStendency_September_parallel.npz')\n",
    "print npzfile.files\n",
    "Tforc = npzfile['Tforc']\n",
    "Kis = npzfile['Ki']\n",
    "Neff_Jan = npzfile['Deg_Freedom']"
   ]
  },
  {
   "cell_type": "code",
   "execution_count": 18,
   "metadata": {
    "collapsed": false
   },
   "outputs": [
    {
     "data": {
      "text/plain": [
       "<matplotlib.colorbar.Colorbar instance at 0x7f9db82b4c68>"
      ]
     },
     "execution_count": 18,
     "metadata": {},
     "output_type": "execute_result"
    },
    {
     "data": {
      "image/png": "[encoded data removed]",
      "text/plain": [
       "<matplotlib.figure.Figure at 0x7f9db9c25ed0>"
      ]
     },
     "metadata": {},
     "output_type": "display_data"
    }
   ],
   "source": [
    "Tforc_Sep = np.reshape(Tforc, ((Degy+1), (Degx+1), N))\n",
    "plt.pcolormesh(np.ma.masked_invalid(Tforc_Sep[:,:,1]))\n",
    "plt.colorbar()"
   ]
  },
  {
   "cell_type": "code",
   "execution_count": 3,
   "metadata": {
    "collapsed": false
   },
   "outputs": [
    {
     "name": "stdout",
     "output_type": "stream",
     "text": [
      "[[  0.00000000e+00   6.14636710e-07   1.22927342e-06 ...,   7.68295887e-05\n",
      "    7.74442254e-05   7.80588621e-05]\n",
      " [  0.00000000e+00   6.14636710e-07   1.22927342e-06 ...,   7.68295887e-05\n",
      "    7.74442254e-05   7.80588621e-05]\n",
      " [  0.00000000e+00   6.14636710e-07   1.22927342e-06 ...,   7.68295887e-05\n",
      "    7.74442254e-05   7.80588621e-05]\n",
      " ..., \n",
      " [  0.00000000e+00   4.84584047e-07   9.69168094e-07 ...,   6.05730059e-05\n",
      "    6.10575899e-05   6.15421740e-05]\n",
      " [  0.00000000e+00   4.76839200e-07   9.53678400e-07 ...,   5.96049000e-05\n",
      "    6.00817392e-05   6.05585784e-05]\n",
      " [             nan              nan              nan ...,              nan\n",
      "               nan              nan]]\n"
     ]
    }
   ],
   "source": [
    "print Kis"
   ]
  },
  {
   "cell_type": "code",
   "execution_count": null,
   "metadata": {
    "collapsed": true
   },
   "outputs": [],
   "source": []
  }
 ],
 "metadata": {
  "kernelspec": {
   "display_name": "Python 2.7",
   "language": "python",
   "name": "python2"
  },
  "language_info": {
   "codemirror_mode": {
    "name": "ipython",
    "version": 2
   },
   "file_extension": ".py",
   "mimetype": "text/x-python",
   "name": "python",
   "nbconvert_exporter": "python",
   "pygments_lexer": "ipython2",
   "version": "2.7.10"
  }
 },
 "nbformat": 4,
 "nbformat_minor": 0
}
