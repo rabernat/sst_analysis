{
 "metadata": {
  "name": "",
  "signature": "sha256:910e53114189cc0a6b6030fd262963498452eca4a5e52fb412ac4afc1ad77572"
 },
 "nbformat": 3,
 "nbformat_minor": 0,
 "worksheets": [
  {
   "cells": [
    {
     "cell_type": "code",
     "collapsed": false,
     "input": [
      "from IPython.parallel import Client\n",
      "from itertools import izip\n",
      "import sys\n",
      "from matplotlib import pyplot as plt\n",
      "import numpy as np\n",
      "%matplotlib inline"
     ],
     "language": "python",
     "metadata": {},
     "outputs": [],
     "prompt_number": 1
    },
    {
     "cell_type": "code",
     "collapsed": false,
     "input": [
      "# set up and connect to cluster\n",
      "\n",
      "rc = Client()\n",
      "dview = rc[:] # use all engines\n",
      "\n",
      "with dview.sync_imports():\n",
      "    import numpy\n",
      "    import warnings\n",
      "    from satdatatools import ghrsst_L2P_dataset, aggregator\n",
      "\n",
      "# set up the aggregator object on each engine\n",
      "dview.execute('lla = aggregator.LatLonAggregator()')\n"
     ],
     "language": "python",
     "metadata": {},
     "outputs": [
      {
       "output_type": "stream",
       "stream": "stdout",
       "text": [
        "importing numpy on engine(s)\n",
        "importing warnings on engine(s)\n",
        "importing ghrsst_L2P_dataset,aggregator from satdatatools on engine(s)"
       ]
      },
      {
       "output_type": "stream",
       "stream": "stdout",
       "text": [
        "\n"
       ]
      },
      {
       "metadata": {},
       "output_type": "pyout",
       "prompt_number": 2,
       "text": [
        "<AsyncResult: finished>"
       ]
      }
     ],
     "prompt_number": 2
    },
    {
     "cell_type": "code",
     "collapsed": false,
     "input": [
      "import time\n",
      "\n",
      "# define remote functions\n",
      "def count_goodpts(fname):\n",
      "    try:\n",
      "        f = ghrsst_L2P_dataset.GHRSSTFile(fname)\n",
      "    except ValueError:\n",
      "        #warnings.warn(('error loading', fname))\n",
      "        return 0\n",
      "    pc = f.proximity_confidence\n",
      "    if isinstance(f, numpy.ma.masked_array):\n",
      "        pc = pc.filled(0.)\n",
      "    goodpts = (pc >= 4).astype('i4')\n",
      "    return lla.binsum(goodpts, f.lon, f.lat)\n",
      "    \n",
      "# define a reduce function\n",
      "def verbose_reduce_sum(A,B):\n",
      "    sys.stdout.write('.')\n",
      "    return A + B\n",
      "\n",
      "from itertools import izip\n",
      "def pmap(view, f, *sequences):\n",
      "    \"\"\"parallel map that submits tasks immediately\"\"\"\n",
      "    wait_time=0.01\n",
      "    queue_max=2\n",
      "    ars = []\n",
      "    for args in izip(*sequences):\n",
      "        #print 'sending', args, 'to map'\n",
      "        ars.append(view.apply_async(f, *args))\n",
      "        while len(ars) > len(view) and len(ars) < (queue_max*len(view)):\n",
      "            # check to see if any results are ready\n",
      "            for i in xrange(len(ars) - 1, -1, -1):\n",
      "                if ars[i].ready():\n",
      "                    #print '  found result'\n",
      "                    yield ars.pop(i).get()\n",
      "            time.sleep(wait_time)\n",
      "    for ar in ars:\n",
      "        yield ar.get()"
     ],
     "language": "python",
     "metadata": {},
     "outputs": [],
     "prompt_number": 3
    },
    {
     "cell_type": "code",
     "collapsed": false,
     "input": [
      "ddir = '/Volumes/Bucket1/Data/ghrsst/data/L2P/MODIS_A/JPL'\n",
      "gc = ghrsst_L2P_dataset.GHRSSTCollection(ddir)\n",
      "gci = gc.iterate(yield_fname=True)\n",
      "filelist = []\n",
      "while len(filelist) < 60:\n",
      "    filelist.append(gci.next())\n"
     ],
     "language": "python",
     "metadata": {},
     "outputs": [],
     "prompt_number": 4
    },
    {
     "cell_type": "code",
     "collapsed": false,
     "input": [
      "class ReduceSumWithMemory(object):\n",
      "    \n",
      "    def __init__(self, verbose=False):\n",
      "        self.verbose=verbose\n",
      "        self.n = 0\n",
      "    \n",
      "    def __call__(self, A, B):\n",
      "        self.A = A\n",
      "        if self.verbose:\n",
      "            sys.stdout.write('.')\n",
      "        self.n += 1.\n",
      "        return A + B\n",
      "        "
     ],
     "language": "python",
     "metadata": {},
     "outputs": [],
     "prompt_number": 22
    },
    {
     "cell_type": "code",
     "collapsed": false,
     "input": [
      "# now do the work\n",
      "import time\n",
      "lla = aggregator.LatLonAggregator()\n",
      "\n",
      "time_per_file = []\n",
      "for n_engines in range(1,len(rc)+1):\n",
      "    \n",
      "    print '\\nTesting on %d engines' % n_engines\n",
      "    lview = rc.load_balanced_view(targets=range(n_engines))\n",
      "\n",
      "    reduce_fun = ReduceSumWithMemory(verbose=True)\n",
      "    tic = time.time()\n",
      "    count = reduce( reduce_fun, pmap(lview, count_goodpts, filelist) )\n",
      "    toc = time.time()\n",
      "\n",
      "    time_per_file.append( (toc - tic)/len(filelist) )\n",
      "\n",
      "#np.savez('goodpts_count_par', count=count, lon=lla.lon, lat=lla.lat)"
     ],
     "language": "python",
     "metadata": {},
     "outputs": [
      {
       "output_type": "stream",
       "stream": "stdout",
       "text": [
        "\n",
        "Testing on 1 engines\n",
        "."
       ]
      },
      {
       "output_type": "stream",
       "stream": "stdout",
       "text": [
        ".."
       ]
      },
      {
       "output_type": "stream",
       "stream": "stdout",
       "text": [
        ".."
       ]
      },
      {
       "output_type": "stream",
       "stream": "stdout",
       "text": [
        ".."
       ]
      },
      {
       "output_type": "stream",
       "stream": "stdout",
       "text": [
        ".."
       ]
      },
      {
       "output_type": "stream",
       "stream": "stdout",
       "text": [
        ".."
       ]
      },
      {
       "output_type": "stream",
       "stream": "stdout",
       "text": [
        ".."
       ]
      },
      {
       "output_type": "stream",
       "stream": "stdout",
       "text": [
        ".."
       ]
      },
      {
       "output_type": "stream",
       "stream": "stdout",
       "text": [
        ".."
       ]
      },
      {
       "output_type": "stream",
       "stream": "stdout",
       "text": [
        ".."
       ]
      },
      {
       "output_type": "stream",
       "stream": "stdout",
       "text": [
        ".."
       ]
      },
      {
       "output_type": "stream",
       "stream": "stdout",
       "text": [
        ".."
       ]
      },
      {
       "output_type": "stream",
       "stream": "stdout",
       "text": [
        ".."
       ]
      },
      {
       "output_type": "stream",
       "stream": "stdout",
       "text": [
        ".."
       ]
      },
      {
       "output_type": "stream",
       "stream": "stdout",
       "text": [
        ".."
       ]
      },
      {
       "output_type": "stream",
       "stream": "stdout",
       "text": [
        "..............................\n",
        "Testing on 2 engines\n",
        "."
       ]
      },
      {
       "output_type": "stream",
       "stream": "stdout",
       "text": [
        ".."
       ]
      },
      {
       "output_type": "stream",
       "stream": "stdout",
       "text": [
        ".."
       ]
      },
      {
       "output_type": "stream",
       "stream": "stdout",
       "text": [
        ".."
       ]
      },
      {
       "output_type": "stream",
       "stream": "stdout",
       "text": [
        ".."
       ]
      },
      {
       "output_type": "stream",
       "stream": "stdout",
       "text": [
        ".."
       ]
      },
      {
       "output_type": "stream",
       "stream": "stdout",
       "text": [
        ".."
       ]
      },
      {
       "output_type": "stream",
       "stream": "stdout",
       "text": [
        ".."
       ]
      },
      {
       "output_type": "stream",
       "stream": "stdout",
       "text": [
        ".."
       ]
      },
      {
       "output_type": "stream",
       "stream": "stdout",
       "text": [
        ".."
       ]
      },
      {
       "output_type": "stream",
       "stream": "stdout",
       "text": [
        ".."
       ]
      },
      {
       "output_type": "stream",
       "stream": "stdout",
       "text": [
        ".."
       ]
      },
      {
       "output_type": "stream",
       "stream": "stdout",
       "text": [
        ".."
       ]
      },
      {
       "output_type": "stream",
       "stream": "stdout",
       "text": [
        ".."
       ]
      },
      {
       "output_type": "stream",
       "stream": "stdout",
       "text": [
        ".."
       ]
      },
      {
       "output_type": "stream",
       "stream": "stdout",
       "text": [
        ".."
       ]
      },
      {
       "output_type": "stream",
       "stream": "stdout",
       "text": [
        ".."
       ]
      },
      {
       "output_type": "stream",
       "stream": "stdout",
       "text": [
        ".."
       ]
      },
      {
       "output_type": "stream",
       "stream": "stdout",
       "text": [
        ".."
       ]
      },
      {
       "output_type": "stream",
       "stream": "stdout",
       "text": [
        ".."
       ]
      },
      {
       "output_type": "stream",
       "stream": "stdout",
       "text": [
        ".."
       ]
      },
      {
       "output_type": "stream",
       "stream": "stdout",
       "text": [
        ".."
       ]
      },
      {
       "output_type": "stream",
       "stream": "stdout",
       "text": [
        ".."
       ]
      },
      {
       "output_type": "stream",
       "stream": "stdout",
       "text": [
        ".."
       ]
      },
      {
       "output_type": "stream",
       "stream": "stdout",
       "text": [
        ".."
       ]
      },
      {
       "output_type": "stream",
       "stream": "stdout",
       "text": [
        ".."
       ]
      },
      {
       "output_type": "stream",
       "stream": "stdout",
       "text": [
        ".."
       ]
      },
      {
       "output_type": "stream",
       "stream": "stdout",
       "text": [
        ".."
       ]
      },
      {
       "output_type": "stream",
       "stream": "stdout",
       "text": [
        ".."
       ]
      },
      {
       "output_type": "stream",
       "stream": "stdout",
       "text": [
        ".."
       ]
      },
      {
       "output_type": "stream",
       "stream": "stdout",
       "text": [
        "\n",
        "Testing on 3 engines\n",
        "."
       ]
      },
      {
       "output_type": "stream",
       "stream": "stdout",
       "text": [
        ".."
       ]
      },
      {
       "output_type": "stream",
       "stream": "stdout",
       "text": [
        ".."
       ]
      },
      {
       "output_type": "stream",
       "stream": "stdout",
       "text": [
        ".."
       ]
      },
      {
       "output_type": "stream",
       "stream": "stdout",
       "text": [
        ".."
       ]
      },
      {
       "output_type": "stream",
       "stream": "stdout",
       "text": [
        ".."
       ]
      },
      {
       "output_type": "stream",
       "stream": "stdout",
       "text": [
        ".."
       ]
      },
      {
       "output_type": "stream",
       "stream": "stdout",
       "text": [
        ".."
       ]
      },
      {
       "output_type": "stream",
       "stream": "stdout",
       "text": [
        ".."
       ]
      },
      {
       "output_type": "stream",
       "stream": "stdout",
       "text": [
        ".."
       ]
      },
      {
       "output_type": "stream",
       "stream": "stdout",
       "text": [
        ".."
       ]
      },
      {
       "output_type": "stream",
       "stream": "stdout",
       "text": [
        ".."
       ]
      },
      {
       "output_type": "stream",
       "stream": "stdout",
       "text": [
        ".."
       ]
      },
      {
       "output_type": "stream",
       "stream": "stdout",
       "text": [
        ".."
       ]
      },
      {
       "output_type": "stream",
       "stream": "stdout",
       "text": [
        ".."
       ]
      },
      {
       "output_type": "stream",
       "stream": "stdout",
       "text": [
        ".."
       ]
      },
      {
       "output_type": "stream",
       "stream": "stdout",
       "text": [
        ".."
       ]
      },
      {
       "output_type": "stream",
       "stream": "stdout",
       "text": [
        ".."
       ]
      },
      {
       "output_type": "stream",
       "stream": "stdout",
       "text": [
        ".."
       ]
      },
      {
       "output_type": "stream",
       "stream": "stdout",
       "text": [
        ".."
       ]
      },
      {
       "output_type": "stream",
       "stream": "stdout",
       "text": [
        ".."
       ]
      },
      {
       "output_type": "stream",
       "stream": "stdout",
       "text": [
        ".."
       ]
      },
      {
       "output_type": "stream",
       "stream": "stdout",
       "text": [
        ".."
       ]
      },
      {
       "output_type": "stream",
       "stream": "stdout",
       "text": [
        ".."
       ]
      },
      {
       "output_type": "stream",
       "stream": "stdout",
       "text": [
        ".."
       ]
      },
      {
       "output_type": "stream",
       "stream": "stdout",
       "text": [
        ".."
       ]
      },
      {
       "output_type": "stream",
       "stream": "stdout",
       "text": [
        ".."
       ]
      },
      {
       "output_type": "stream",
       "stream": "stdout",
       "text": [
        ".."
       ]
      },
      {
       "output_type": "stream",
       "stream": "stdout",
       "text": [
        ".."
       ]
      },
      {
       "output_type": "stream",
       "stream": "stdout",
       "text": [
        ".."
       ]
      },
      {
       "output_type": "stream",
       "stream": "stdout",
       "text": [
        "\n",
        "Testing on 4 engines\n",
        "."
       ]
      },
      {
       "output_type": "stream",
       "stream": "stdout",
       "text": [
        ".."
       ]
      },
      {
       "output_type": "stream",
       "stream": "stdout",
       "text": [
        ".."
       ]
      },
      {
       "output_type": "stream",
       "stream": "stdout",
       "text": [
        ".."
       ]
      },
      {
       "output_type": "stream",
       "stream": "stdout",
       "text": [
        ".."
       ]
      },
      {
       "output_type": "stream",
       "stream": "stdout",
       "text": [
        ".."
       ]
      },
      {
       "output_type": "stream",
       "stream": "stdout",
       "text": [
        ".."
       ]
      },
      {
       "output_type": "stream",
       "stream": "stdout",
       "text": [
        ".."
       ]
      },
      {
       "output_type": "stream",
       "stream": "stdout",
       "text": [
        ".."
       ]
      },
      {
       "output_type": "stream",
       "stream": "stdout",
       "text": [
        ".."
       ]
      },
      {
       "output_type": "stream",
       "stream": "stdout",
       "text": [
        ".."
       ]
      },
      {
       "output_type": "stream",
       "stream": "stdout",
       "text": [
        ".."
       ]
      },
      {
       "output_type": "stream",
       "stream": "stdout",
       "text": [
        ".."
       ]
      },
      {
       "output_type": "stream",
       "stream": "stdout",
       "text": [
        ".."
       ]
      },
      {
       "output_type": "stream",
       "stream": "stdout",
       "text": [
        ".."
       ]
      },
      {
       "output_type": "stream",
       "stream": "stdout",
       "text": [
        ".."
       ]
      },
      {
       "output_type": "stream",
       "stream": "stdout",
       "text": [
        ".."
       ]
      },
      {
       "output_type": "stream",
       "stream": "stdout",
       "text": [
        ".."
       ]
      },
      {
       "output_type": "stream",
       "stream": "stdout",
       "text": [
        ".."
       ]
      },
      {
       "output_type": "stream",
       "stream": "stdout",
       "text": [
        ".."
       ]
      },
      {
       "output_type": "stream",
       "stream": "stdout",
       "text": [
        ".."
       ]
      },
      {
       "output_type": "stream",
       "stream": "stdout",
       "text": [
        ".."
       ]
      },
      {
       "output_type": "stream",
       "stream": "stdout",
       "text": [
        ".."
       ]
      },
      {
       "output_type": "stream",
       "stream": "stdout",
       "text": [
        ".."
       ]
      },
      {
       "output_type": "stream",
       "stream": "stdout",
       "text": [
        ".."
       ]
      },
      {
       "output_type": "stream",
       "stream": "stdout",
       "text": [
        ".."
       ]
      },
      {
       "output_type": "stream",
       "stream": "stdout",
       "text": [
        ".."
       ]
      },
      {
       "output_type": "stream",
       "stream": "stdout",
       "text": [
        ".."
       ]
      },
      {
       "output_type": "stream",
       "stream": "stdout",
       "text": [
        ".."
       ]
      },
      {
       "output_type": "stream",
       "stream": "stdout",
       "text": [
        ".."
       ]
      },
      {
       "output_type": "stream",
       "stream": "stdout",
       "text": [
        "\n",
        "Testing on 5 engines\n",
        "."
       ]
      },
      {
       "output_type": "stream",
       "stream": "stdout",
       "text": [
        ".."
       ]
      },
      {
       "output_type": "stream",
       "stream": "stdout",
       "text": [
        ".."
       ]
      },
      {
       "output_type": "stream",
       "stream": "stdout",
       "text": [
        ".."
       ]
      },
      {
       "output_type": "stream",
       "stream": "stdout",
       "text": [
        ".."
       ]
      },
      {
       "output_type": "stream",
       "stream": "stdout",
       "text": [
        ".."
       ]
      },
      {
       "output_type": "stream",
       "stream": "stdout",
       "text": [
        "..."
       ]
      },
      {
       "output_type": "stream",
       "stream": "stdout",
       "text": [
        ".."
       ]
      },
      {
       "output_type": "stream",
       "stream": "stdout",
       "text": [
        ".."
       ]
      },
      {
       "output_type": "stream",
       "stream": "stdout",
       "text": [
        ".."
       ]
      },
      {
       "output_type": "stream",
       "stream": "stdout",
       "text": [
        ".."
       ]
      },
      {
       "output_type": "stream",
       "stream": "stdout",
       "text": [
        ".."
       ]
      },
      {
       "output_type": "stream",
       "stream": "stdout",
       "text": [
        ".."
       ]
      },
      {
       "output_type": "stream",
       "stream": "stdout",
       "text": [
        ".."
       ]
      },
      {
       "output_type": "stream",
       "stream": "stdout",
       "text": [
        ".."
       ]
      },
      {
       "output_type": "stream",
       "stream": "stdout",
       "text": [
        ".."
       ]
      },
      {
       "output_type": "stream",
       "stream": "stdout",
       "text": [
        ".."
       ]
      },
      {
       "output_type": "stream",
       "stream": "stdout",
       "text": [
        ".."
       ]
      },
      {
       "output_type": "stream",
       "stream": "stdout",
       "text": [
        ".."
       ]
      },
      {
       "output_type": "stream",
       "stream": "stdout",
       "text": [
        ".."
       ]
      },
      {
       "output_type": "stream",
       "stream": "stdout",
       "text": [
        ".."
       ]
      },
      {
       "output_type": "stream",
       "stream": "stdout",
       "text": [
        ".."
       ]
      },
      {
       "output_type": "stream",
       "stream": "stdout",
       "text": [
        ".."
       ]
      },
      {
       "output_type": "stream",
       "stream": "stdout",
       "text": [
        ".."
       ]
      },
      {
       "output_type": "stream",
       "stream": "stdout",
       "text": [
        ".."
       ]
      },
      {
       "output_type": "stream",
       "stream": "stdout",
       "text": [
        ".."
       ]
      },
      {
       "output_type": "stream",
       "stream": "stdout",
       "text": [
        ".."
       ]
      },
      {
       "output_type": "stream",
       "stream": "stdout",
       "text": [
        ".."
       ]
      },
      {
       "output_type": "stream",
       "stream": "stdout",
       "text": [
        ".."
       ]
      },
      {
       "output_type": "stream",
       "stream": "stdout",
       "text": [
        ".\n",
        "Testing on 6 engines\n",
        "."
       ]
      },
      {
       "output_type": "stream",
       "stream": "stdout",
       "text": [
        ".."
       ]
      },
      {
       "output_type": "stream",
       "stream": "stdout",
       "text": [
        ".."
       ]
      },
      {
       "output_type": "stream",
       "stream": "stdout",
       "text": [
        ".."
       ]
      },
      {
       "output_type": "stream",
       "stream": "stdout",
       "text": [
        ".."
       ]
      },
      {
       "output_type": "stream",
       "stream": "stdout",
       "text": [
        ".."
       ]
      },
      {
       "output_type": "stream",
       "stream": "stdout",
       "text": [
        ".."
       ]
      },
      {
       "output_type": "stream",
       "stream": "stdout",
       "text": [
        ".."
       ]
      },
      {
       "output_type": "stream",
       "stream": "stdout",
       "text": [
        ".."
       ]
      },
      {
       "output_type": "stream",
       "stream": "stdout",
       "text": [
        ".."
       ]
      },
      {
       "output_type": "stream",
       "stream": "stdout",
       "text": [
        ".."
       ]
      },
      {
       "output_type": "stream",
       "stream": "stdout",
       "text": [
        ".."
       ]
      },
      {
       "output_type": "stream",
       "stream": "stdout",
       "text": [
        ".."
       ]
      },
      {
       "output_type": "stream",
       "stream": "stdout",
       "text": [
        ".."
       ]
      },
      {
       "output_type": "stream",
       "stream": "stdout",
       "text": [
        ".."
       ]
      },
      {
       "output_type": "stream",
       "stream": "stdout",
       "text": [
        ".."
       ]
      },
      {
       "output_type": "stream",
       "stream": "stdout",
       "text": [
        ".."
       ]
      },
      {
       "output_type": "stream",
       "stream": "stdout",
       "text": [
        ".."
       ]
      },
      {
       "output_type": "stream",
       "stream": "stdout",
       "text": [
        ".."
       ]
      },
      {
       "output_type": "stream",
       "stream": "stdout",
       "text": [
        ".."
       ]
      },
      {
       "output_type": "stream",
       "stream": "stdout",
       "text": [
        ".."
       ]
      },
      {
       "output_type": "stream",
       "stream": "stdout",
       "text": [
        ".."
       ]
      },
      {
       "output_type": "stream",
       "stream": "stdout",
       "text": [
        ".."
       ]
      },
      {
       "output_type": "stream",
       "stream": "stdout",
       "text": [
        ".."
       ]
      },
      {
       "output_type": "stream",
       "stream": "stdout",
       "text": [
        ".."
       ]
      },
      {
       "output_type": "stream",
       "stream": "stdout",
       "text": [
        ".."
       ]
      },
      {
       "output_type": "stream",
       "stream": "stdout",
       "text": [
        ".."
       ]
      },
      {
       "output_type": "stream",
       "stream": "stdout",
       "text": [
        ".."
       ]
      },
      {
       "output_type": "stream",
       "stream": "stdout",
       "text": [
        ".."
       ]
      },
      {
       "output_type": "stream",
       "stream": "stdout",
       "text": [
        ".."
       ]
      }
     ],
     "prompt_number": 36
    },
    {
     "cell_type": "code",
     "collapsed": false,
     "input": [
      "ax1 = plt.subplot(211)\n",
      "idx = np.arange(1,len(rc)+1)\n",
      "width = 0.5\n",
      "ax1.bar(idx - width/2, np.array(time_per_file), width)\n",
      "ax1.set_xticks(idx)\n",
      "ax1.set_xticklabels([])\n",
      "ax1.set_ylabel('seconds')\n",
      "ax1.set_title('Time Per File Processed')\n",
      "\n",
      "ax2 = plt.subplot(212)\n",
      "ax2.bar(idx - width/2, np.array(time_per_file)*idx, width)\n",
      "ax2.set_xticks(idx)\n",
      "ax2.set_ylabel('seconds')\n",
      "ax2.set_xlabel('number of engines')\n",
      "ax2.set_title('Time Per Work Item')\n",
      "\n"
     ],
     "language": "python",
     "metadata": {},
     "outputs": [
      {
       "metadata": {},
       "output_type": "pyout",
       "prompt_number": 56,
       "text": [
        "<matplotlib.text.Text at 0x1264c6810>"
       ]
      },
      {
       "metadata": {},
       "output_type": "display_data",
       "png": "[encoded data removed]",
       "text": [
        "<matplotlib.figure.Figure at 0x126418910>"
       ]
      }
     ],
     "prompt_number": 56
    },
    {
     "cell_type": "code",
     "collapsed": false,
     "input": [
      "# a function to search for MODIS images with small cloud masks\n",
      "def is_pretty(fname, good_frac=0.6):\n",
      "    try:\n",
      "        f = ghrsst_L2P_dataset.GHRSSTFile(fname)\n",
      "    except ValueError:\n",
      "        return None\n",
      "    goodpts = (f.proximity_confidence>=4)\n",
      "    if goodpts.sum() > (good_frac * f.proximity_confidence.size):\n",
      "        return fname\n",
      "    else:\n",
      "        return None\n",
      "\n",
      "class ReduceDiscardNones(object):\n",
      "    \"\"\"Build up a list only out the non-None elements.\"\"\"\n",
      "    \n",
      "    def __init__(self, verbose=False):\n",
      "        self.verbose=verbose\n",
      "        self.n = 0\n",
      "        self.items = []\n",
      "    \n",
      "    def __call__(self, A, B):\n",
      "        if len(self.items) == 0:\n",
      "            if A is not None:\n",
      "                self.items.append(A)\n",
      "        if B is not None:\n",
      "            self.items.append(B)\n",
      "        if self.verbose:\n",
      "            sys.stdout.write('.')\n",
      "        self.n += 1\n",
      "        return self.items\n",
      "\n",
      "lview = rc.load_balanced_view()\n",
      "gci = gc.iterate(yield_fname=True)\n",
      "\n",
      "reduce_fun = ReduceDiscardNones(verbose=False)\n"
     ],
     "language": "python",
     "metadata": {},
     "outputs": [],
     "prompt_number": 5
    },
    {
     "cell_type": "code",
     "collapsed": false,
     "input": [
      "pretty_files = reduce( reduce_fun, pmap(lview, is_pretty, gci) )\n"
     ],
     "language": "python",
     "metadata": {},
     "outputs": [
      {
       "ename": "RemoteError",
       "evalue": "AttributeError('GHRSSTFile' object has no attribute 'proximity_confidence')",
       "output_type": "pyerr",
       "traceback": [
        "\u001b[0;31m---------------------------------------------------------------------------\u001b[0m",
        "\u001b[0;31mAttributeError\u001b[0m                            Traceback (most recent call last)\u001b[0;32m<string>\u001b[0m in \u001b[0;36m<module>\u001b[0;34m()\u001b[0m",
        "\u001b[0;32m<ipython-input-5-d5f31db5dfea>\u001b[0m in \u001b[0;36mis_pretty\u001b[0;34m(fname, good_frac)\u001b[0m",
        "\u001b[0;31mAttributeError\u001b[0m: 'GHRSSTFile' object has no attribute 'proximity_confidence'"
       ]
      }
     ],
     "prompt_number": 6
    },
    {
     "cell_type": "code",
     "collapsed": false,
     "input": [
      "print reduce_fun.n\n",
      "print reduce_fun.items"
     ],
     "language": "python",
     "metadata": {},
     "outputs": [
      {
       "output_type": "stream",
       "stream": "stdout",
       "text": [
        "172303\n",
        "[[...], '/Volumes/Bucket1/Data/ghrsst/data/L2P/MODIS_A/JPL/2006/242/20060830-MODIS_A-JPL-L2P-A2006242060500.L2_LAC_GHRSST-v01.nc.bz2', '/Volumes/Bucket1/Data/ghrsst/data/L2P/MODIS_A/JPL/2006/283/20061010-MODIS_A-JPL-L2P-A2006283060000.L2_LAC_GHRSST-v01.nc.bz2', '/Volumes/Bucket1/Data/ghrsst/data/L2P/MODIS_A/JPL/2007/021/20070121-MODIS_A-JPL-L2P-A2007021191500.L2_LAC_GHRSST-v01.nc.bz2', '/Volumes/Bucket1/Data/ghrsst/data/L2P/MODIS_A/JPL/2007/034/20070203-MODIS_A-JPL-L2P-A2007034090000.L2_LAC_GHRSST-v01.nc.bz2', '/Volumes/Bucket1/Data/ghrsst/data/L2P/MODIS_A/JPL/2007/034/20070203-MODIS_A-JPL-L2P-A2007034211500.L2_LAC_GHRSST-v01.nc.bz2', '/Volumes/Bucket1/Data/ghrsst/data/L2P/MODIS_A/JPL/2007/045/20070214-MODIS_A-JPL-L2P-A2007045084000.L2_LAC_GHRSST-v01.nc.bz2', '/Volumes/Bucket1/Data/ghrsst/data/L2P/MODIS_A/JPL/2007/059/20070228-MODIS_A-JPL-L2P-A2007059085500.L2_LAC_GHRSST-v01.nc.bz2', '/Volumes/Bucket1/Data/ghrsst/data/L2P/MODIS_A/JPL/2007/059/20070228-MODIS_A-JPL-L2P-A2007059085000.L2_LAC_GHRSST-v01.nc.bz2', '/Volumes/Bucket1/Data/ghrsst/data/L2P/MODIS_A/JPL/2007/060/20070301-MODIS_A-JPL-L2P-A2007060093500.L2_LAC_GHRSST-v01.nc.bz2', '/Volumes/Bucket1/Data/ghrsst/data/L2P/MODIS_A/JPL/2007/075/20070316-MODIS_A-JPL-L2P-A2007075085500.L2_LAC_GHRSST-v01.nc.bz2', '/Volumes/Bucket1/Data/ghrsst/data/L2P/MODIS_A/JPL/2007/076/20070317-MODIS_A-JPL-L2P-A2007076093500.L2_LAC_GHRSST-v01.nc.bz2', '/Volumes/Bucket1/Data/ghrsst/data/L2P/MODIS_A/JPL/2007/082/20070323-MODIS_A-JPL-L2P-A2007082090000.L2_LAC_GHRSST-v01.nc.bz2', '/Volumes/Bucket1/Data/ghrsst/data/L2P/MODIS_A/JPL/2007/085/20070326-MODIS_A-JPL-L2P-A2007085093000.L2_LAC_GHRSST-v01.nc.bz2', '/Volumes/Bucket1/Data/ghrsst/data/L2P/MODIS_A/JPL/2007/087/20070328-MODIS_A-JPL-L2P-A2007087092000.L2_LAC_GHRSST-v01.nc.bz2', '/Volumes/Bucket1/Data/ghrsst/data/L2P/MODIS_A/JPL/2007/088/20070329-MODIS_A-JPL-L2P-A2007088100000.L2_LAC_GHRSST-v01.nc.bz2', '/Volumes/Bucket1/Data/ghrsst/data/L2P/MODIS_A/JPL/2007/091/20070401-MODIS_A-JPL-L2P-A2007091085500.L2_LAC_GHRSST-v01.nc.bz2', '/Volumes/Bucket1/Data/ghrsst/data/L2P/MODIS_A/JPL/2007/094/20070404-MODIS_A-JPL-L2P-A2007094092500.L2_LAC_GHRSST-v01.nc.bz2', '/Volumes/Bucket1/Data/ghrsst/data/L2P/MODIS_A/JPL/2007/094/20070404-MODIS_A-JPL-L2P-A2007094214000.L2_LAC_GHRSST-v01.nc.bz2', '/Volumes/Bucket1/Data/ghrsst/data/L2P/MODIS_A/JPL/2007/098/20070408-MODIS_A-JPL-L2P-A2007098090000.L2_LAC_GHRSST-v01.nc.bz2', '/Volumes/Bucket1/Data/ghrsst/data/L2P/MODIS_A/JPL/2007/101/20070411-MODIS_A-JPL-L2P-A2007101093000.L2_LAC_GHRSST-v01.nc.bz2', '/Volumes/Bucket1/Data/ghrsst/data/L2P/MODIS_A/JPL/2007/103/20070413-MODIS_A-JPL-L2P-A2007103092000.L2_LAC_GHRSST-v01.nc.bz2', '/Volumes/Bucket1/Data/ghrsst/data/L2P/MODIS_A/JPL/2007/107/20070417-MODIS_A-JPL-L2P-A2007107085500.L2_LAC_GHRSST-v01.nc.bz2', '/Volumes/Bucket1/Data/ghrsst/data/L2P/MODIS_A/JPL/2007/109/20070419-MODIS_A-JPL-L2P-A2007109084000.L2_LAC_GHRSST-v01.nc.bz2', '/Volumes/Bucket1/Data/ghrsst/data/L2P/MODIS_A/JPL/2007/110/20070420-MODIS_A-JPL-L2P-A2007110092500.L2_LAC_GHRSST-v01.nc.bz2', '/Volumes/Bucket1/Data/ghrsst/data/L2P/MODIS_A/JPL/2007/129/20070509-MODIS_A-JPL-L2P-A2007129145500.L2_LAC_GHRSST-v01.nc.bz2', '/Volumes/Bucket1/Data/ghrsst/data/L2P/MODIS_A/JPL/2007/131/20070511-MODIS_A-JPL-L2P-A2007131144500.L2_LAC_GHRSST-v01.nc.bz2', '/Volumes/Bucket1/Data/ghrsst/data/L2P/MODIS_A/JPL/2007/148/20070528-MODIS_A-JPL-L2P-A2007148021500.L2_LAC_GHRSST-v01.nc.bz2', '/Volumes/Bucket1/Data/ghrsst/data/L2P/MODIS_A/JPL/2007/149/20070529-MODIS_A-JPL-L2P-A2007149012000.L2_LAC_GHRSST-v01.nc.bz2', '/Volumes/Bucket1/Data/ghrsst/data/L2P/MODIS_A/JPL/2007/158/20070607-MODIS_A-JPL-L2P-A2007158211500.L2_LAC_GHRSST-v01.nc.bz2', '/Volumes/Bucket1/Data/ghrsst/data/L2P/MODIS_A/JPL/2007/159/20070608-MODIS_A-JPL-L2P-A2007159170500.L2_LAC_GHRSST-v01.nc.bz2', '/Volumes/Bucket1/Data/ghrsst/data/L2P/MODIS_A/JPL/2007/159/20070608-MODIS_A-JPL-L2P-A2007159202000.L2_LAC_GHRSST-v01.nc.bz2', '/Volumes/Bucket1/Data/ghrsst/data/L2P/MODIS_A/JPL/2007/159/20070608-MODIS_A-JPL-L2P-A2007159220000.L2_LAC_GHRSST-v01.nc.bz2', '/Volumes/Bucket1/Data/ghrsst/data/L2P/MODIS_A/JPL/2007/160/20070609-MODIS_A-JPL-L2P-A2007160125500.L2_LAC_GHRSST-v01.nc.bz2', '/Volumes/Bucket1/Data/ghrsst/data/L2P/MODIS_A/JPL/2007/160/20070609-MODIS_A-JPL-L2P-A2007160161000.L2_LAC_GHRSST-v01.nc.bz2', '/Volumes/Bucket1/Data/ghrsst/data/L2P/MODIS_A/JPL/2007/160/20070609-MODIS_A-JPL-L2P-A2007160175000.L2_LAC_GHRSST-v01.nc.bz2', '/Volumes/Bucket1/Data/ghrsst/data/L2P/MODIS_A/JPL/2007/160/20070609-MODIS_A-JPL-L2P-A2007160192500.L2_LAC_GHRSST-v01.nc.bz2', '/Volumes/Bucket1/Data/ghrsst/data/L2P/MODIS_A/JPL/2007/160/20070609-MODIS_A-JPL-L2P-A2007160210500.L2_LAC_GHRSST-v01.nc.bz2', '/Volumes/Bucket1/Data/ghrsst/data/L2P/MODIS_A/JPL/2007/161/20070610-MODIS_A-JPL-L2P-A2007161151500.L2_LAC_GHRSST-v01.nc.bz2', '/Volumes/Bucket1/Data/ghrsst/data/L2P/MODIS_A/JPL/2007/161/20070610-MODIS_A-JPL-L2P-A2007161165500.L2_LAC_GHRSST-v01.nc.bz2', '/Volumes/Bucket1/Data/ghrsst/data/L2P/MODIS_A/JPL/2007/161/20070610-MODIS_A-JPL-L2P-A2007161183000.L2_LAC_GHRSST-v01.nc.bz2', '/Volumes/Bucket1/Data/ghrsst/data/L2P/MODIS_A/JPL/2007/161/20070610-MODIS_A-JPL-L2P-A2007161201000.L2_LAC_GHRSST-v01.nc.bz2', '/Volumes/Bucket1/Data/ghrsst/data/L2P/MODIS_A/JPL/2007/161/20070610-MODIS_A-JPL-L2P-A2007161232500.L2_LAC_GHRSST-v01.nc.bz2', '/Volumes/Bucket1/Data/ghrsst/data/L2P/MODIS_A/JPL/2007/162/20070611-MODIS_A-JPL-L2P-A2007162142000.L2_LAC_GHRSST-v01.nc.bz2', '/Volumes/Bucket1/Data/ghrsst/data/L2P/MODIS_A/JPL/2007/162/20070611-MODIS_A-JPL-L2P-A2007162160000.L2_LAC_GHRSST-v01.nc.bz2', '/Volumes/Bucket1/Data/ghrsst/data/L2P/MODIS_A/JPL/2007/162/20070611-MODIS_A-JPL-L2P-A2007162173000.L2_LAC_GHRSST-v01.nc.bz2', '/Volumes/Bucket1/Data/ghrsst/data/L2P/MODIS_A/JPL/2007/162/20070611-MODIS_A-JPL-L2P-A2007162173500.L2_LAC_GHRSST-v01.nc.bz2', '/Volumes/Bucket1/Data/ghrsst/data/L2P/MODIS_A/JPL/2007/162/20070611-MODIS_A-JPL-L2P-A2007162191500.L2_LAC_GHRSST-v01.nc.bz2', '/Volumes/Bucket1/Data/ghrsst/data/L2P/MODIS_A/JPL/2007/162/20070611-MODIS_A-JPL-L2P-A2007162223000.L2_LAC_GHRSST-v01.nc.bz2', '/Volumes/Bucket1/Data/ghrsst/data/L2P/MODIS_A/JPL/2007/163/20070612-MODIS_A-JPL-L2P-A2007163132500.L2_LAC_GHRSST-v01.nc.bz2', '/Volumes/Bucket1/Data/ghrsst/data/L2P/MODIS_A/JPL/2007/163/20070612-MODIS_A-JPL-L2P-A2007163164000.L2_LAC_GHRSST-v01.nc.bz2', '/Volumes/Bucket1/Data/ghrsst/data/L2P/MODIS_A/JPL/2007/163/20070612-MODIS_A-JPL-L2P-A2007163182000.L2_LAC_GHRSST-v01.nc.bz2', '/Volumes/Bucket1/Data/ghrsst/data/L2P/MODIS_A/JPL/2007/163/20070612-MODIS_A-JPL-L2P-A2007163213500.L2_LAC_GHRSST-v01.nc.bz2', '/Volumes/Bucket1/Data/ghrsst/data/L2P/MODIS_A/JPL/2007/164/20070613-MODIS_A-JPL-L2P-A2007164154500.L2_LAC_GHRSST-v01.nc.bz2', '/Volumes/Bucket1/Data/ghrsst/data/L2P/MODIS_A/JPL/2007/164/20070613-MODIS_A-JPL-L2P-A2007164172500.L2_LAC_GHRSST-v01.nc.bz2', '/Volumes/Bucket1/Data/ghrsst/data/L2P/MODIS_A/JPL/2007/164/20070613-MODIS_A-JPL-L2P-A2007164204000.L2_LAC_GHRSST-v01.nc.bz2', '/Volumes/Bucket1/Data/ghrsst/data/L2P/MODIS_A/JPL/2007/164/20070613-MODIS_A-JPL-L2P-A2007164235500.L2_LAC_GHRSST-v01.nc.bz2', '/Volumes/Bucket1/Data/ghrsst/data/L2P/MODIS_A/JPL/2007/165/20070614-MODIS_A-JPL-L2P-A2007165145000.L2_LAC_GHRSST-v01.nc.bz2', '/Volumes/Bucket1/Data/ghrsst/data/L2P/MODIS_A/JPL/2007/165/20070614-MODIS_A-JPL-L2P-A2007165163000.L2_LAC_GHRSST-v01.nc.bz2', '/Volumes/Bucket1/Data/ghrsst/data/L2P/MODIS_A/JPL/2007/165/20070614-MODIS_A-JPL-L2P-A2007165194500.L2_LAC_GHRSST-v01.nc.bz2', '/Volumes/Bucket1/Data/ghrsst/data/L2P/MODIS_A/JPL/2007/165/20070614-MODIS_A-JPL-L2P-A2007165212500.L2_LAC_GHRSST-v01.nc.bz2', '/Volumes/Bucket1/Data/ghrsst/data/L2P/MODIS_A/JPL/2007/165/20070614-MODIS_A-JPL-L2P-A2007165230000.L2_LAC_GHRSST-v01.nc.bz2', '/Volumes/Bucket1/Data/ghrsst/data/L2P/MODIS_A/JPL/2007/166/20070615-MODIS_A-JPL-L2P-A2007166004000.L2_LAC_GHRSST-v01.nc.bz2', '/Volumes/Bucket1/Data/ghrsst/data/L2P/MODIS_A/JPL/2007/166/20070615-MODIS_A-JPL-L2P-A2007166153500.L2_LAC_GHRSST-v01.nc.bz2', '/Volumes/Bucket1/Data/ghrsst/data/L2P/MODIS_A/JPL/2007/166/20070615-MODIS_A-JPL-L2P-A2007166185000.L2_LAC_GHRSST-v01.nc.bz2', '/Volumes/Bucket1/Data/ghrsst/data/L2P/MODIS_A/JPL/2007/166/20070615-MODIS_A-JPL-L2P-A2007166202500.L2_LAC_GHRSST-v01.nc.bz2', '/Volumes/Bucket1/Data/ghrsst/data/L2P/MODIS_A/JPL/2007/166/20070615-MODIS_A-JPL-L2P-A2007166203000.L2_LAC_GHRSST-v01.nc.bz2', '/Volumes/Bucket1/Data/ghrsst/data/L2P/MODIS_A/JPL/2007/166/20070615-MODIS_A-JPL-L2P-A2007166234500.L2_LAC_GHRSST-v01.nc.bz2', '/Volumes/Bucket1/Data/ghrsst/data/L2P/MODIS_A/JPL/2007/167/20070616-MODIS_A-JPL-L2P-A2007167012500.L2_LAC_GHRSST-v01.nc.bz2', '/Volumes/Bucket1/Data/ghrsst/data/L2P/MODIS_A/JPL/2007/167/20070616-MODIS_A-JPL-L2P-A2007167175500.L2_LAC_GHRSST-v01.nc.bz2', '/Volumes/Bucket1/Data/ghrsst/data/L2P/MODIS_A/JPL/2007/167/20070616-MODIS_A-JPL-L2P-A2007167211000.L2_LAC_GHRSST-v01.nc.bz2', '/Volumes/Bucket1/Data/ghrsst/data/L2P/MODIS_A/JPL/2007/167/20070616-MODIS_A-JPL-L2P-A2007167225000.L2_LAC_GHRSST-v01.nc.bz2', '/Volumes/Bucket1/Data/ghrsst/data/L2P/MODIS_A/JPL/2007/168/20070617-MODIS_A-JPL-L2P-A2007168003000.L2_LAC_GHRSST-v01.nc.bz2', '/Volumes/Bucket1/Data/ghrsst/data/L2P/MODIS_A/JPL/2007/168/20070617-MODIS_A-JPL-L2P-A2007168170000.L2_LAC_GHRSST-v01.nc.bz2', '/Volumes/Bucket1/Data/ghrsst/data/L2P/MODIS_A/JPL/2007/168/20070617-MODIS_A-JPL-L2P-A2007168201500.L2_LAC_GHRSST-v01.nc.bz2', '/Volumes/Bucket1/Data/ghrsst/data/L2P/MODIS_A/JPL/2007/196/20070715-MODIS_A-JPL-L2P-A2007196172500.L2_LAC_GHRSST-v01.nc.bz2', '/Volumes/Bucket1/Data/ghrsst/data/L2P/MODIS_A/JPL/2007/196/20070715-MODIS_A-JPL-L2P-A2007196204000.L2_LAC_GHRSST-v01.nc.bz2', '/Volumes/Bucket1/Data/ghrsst/data/L2P/MODIS_A/JPL/2007/197/20070716-MODIS_A-JPL-L2P-A2007197145000.L2_LAC_GHRSST-v01.nc.bz2', '/Volumes/Bucket1/Data/ghrsst/data/L2P/MODIS_A/JPL/2007/197/20070716-MODIS_A-JPL-L2P-A2007197194500.L2_LAC_GHRSST-v01.nc.bz2', '/Volumes/Bucket1/Data/ghrsst/data/L2P/MODIS_A/JPL/2007/200/20070719-MODIS_A-JPL-L2P-A2007200201500.L2_LAC_GHRSST-v01.nc.bz2', '/Volumes/Bucket1/Data/ghrsst/data/L2P/MODIS_A/JPL/2007/203/20070722-MODIS_A-JPL-L2P-A2007203173000.L2_LAC_GHRSST-v01.nc.bz2', '/Volumes/Bucket1/Data/ghrsst/data/L2P/MODIS_A/JPL/2007/203/20070722-MODIS_A-JPL-L2P-A2007203204500.L2_LAC_GHRSST-v01.nc.bz2', '/Volumes/Bucket1/Data/ghrsst/data/L2P/MODIS_A/JPL/2007/204/20070723-MODIS_A-JPL-L2P-A2007204145500.L2_LAC_GHRSST-v01.nc.bz2', '/Volumes/Bucket1/Data/ghrsst/data/L2P/MODIS_A/JPL/2007/204/20070723-MODIS_A-JPL-L2P-A2007204163500.L2_LAC_GHRSST-v01.nc.bz2', '/Volumes/Bucket1/Data/ghrsst/data/L2P/MODIS_A/JPL/2007/204/20070723-MODIS_A-JPL-L2P-A2007204195000.L2_LAC_GHRSST-v01.nc.bz2', '/Volumes/Bucket1/Data/ghrsst/data/L2P/MODIS_A/JPL/2007/205/20070724-MODIS_A-JPL-L2P-A2007205140000.L2_LAC_GHRSST-v01.nc.bz2', '/Volumes/Bucket1/Data/ghrsst/data/L2P/MODIS_A/JPL/2007/205/20070724-MODIS_A-JPL-L2P-A2007205185500.L2_LAC_GHRSST-v01.nc.bz2', '/Volumes/Bucket1/Data/ghrsst/data/L2P/MODIS_A/JPL/2007/245/20070902-MODIS_A-JPL-L2P-A2007245060500.L2_LAC_GHRSST-v01.nc.bz2', '/Volumes/Bucket1/Data/ghrsst/data/L2P/MODIS_A/JPL/2007/246/20070903-MODIS_A-JPL-L2P-A2007246174000.L2_LAC_GHRSST-v01.nc.bz2', '/Volumes/Bucket1/Data/ghrsst/data/L2P/MODIS_A/JPL/2007/254/20070911-MODIS_A-JPL-L2P-A2007254223000.L2_LAC_GHRSST-v01.nc.bz2', '/Volumes/Bucket1/Data/ghrsst/data/L2P/MODIS_A/JPL/2007/267/20070924-MODIS_A-JPL-L2P-A2007267053000.L2_LAC_GHRSST-v01.nc.bz2', '/Volumes/Bucket1/Data/ghrsst/data/L2P/MODIS_A/JPL/2007/279/20071006-MODIS_A-JPL-L2P-A2007279023000.L2_LAC_GHRSST-v01.nc.bz2', '/Volumes/Bucket1/Data/ghrsst/data/L2P/MODIS_A/JPL/2007/319/20071115-MODIS_A-JPL-L2P-A2007319095500.L2_LAC_GHRSST-v01.nc.bz2', '/Volumes/Bucket1/Data/ghrsst/data/L2P/MODIS_A/JPL/2007/322/20071118-MODIS_A-JPL-L2P-A2007322090000.L2_LAC_GHRSST-v01.nc.bz2', '/Volumes/Bucket1/Data/ghrsst/data/L2P/MODIS_A/JPL/2008/002/20080102-MODIS_A-JPL-L2P-A2008002145500.L2_LAC_GHRSST-v01.nc.bz2', '/Volumes/Bucket1/Data/ghrsst/data/L2P/MODIS_A/JPL/2008/036/20080205-MODIS_A-JPL-L2P-A2008036194000.L2_LAC_GHRSST-v01.nc.bz2', '/Volumes/Bucket1/Data/ghrsst/data/L2P/MODIS_A/JPL/2008/041/20080210-MODIS_A-JPL-L2P-A2008041150500.L2_LAC_GHRSST-v01.nc.bz2', '/Volumes/Bucket1/Data/ghrsst/data/L2P/MODIS_A/JPL/2008/048/20080217-MODIS_A-JPL-L2P-A2008048084000.L2_LAC_GHRSST-v01.nc.bz2', '/Volumes/Bucket1/Data/ghrsst/data/L2P/MODIS_A/JPL/2008/049/20080218-MODIS_A-JPL-L2P-A2008049092500.L2_LAC_GHRSST-v01.nc.bz2', '/Volumes/Bucket1/Data/ghrsst/data/L2P/MODIS_A/JPL/2008/049/20080218-MODIS_A-JPL-L2P-A2008049214000.L2_LAC_GHRSST-v01.nc.bz2', '/Volumes/Bucket1/Data/ghrsst/data/L2P/MODIS_A/JPL/2008/057/20080226-MODIS_A-JPL-L2P-A2008057150500.L2_LAC_GHRSST-v01.nc.bz2', '/Volumes/Bucket1/Data/ghrsst/data/L2P/MODIS_A/JPL/2008/059/20080228-MODIS_A-JPL-L2P-A2008059194500.L2_LAC_GHRSST-v01.nc.bz2', '/Volumes/Bucket1/Data/ghrsst/data/L2P/MODIS_A/JPL/2008/062/20080302-MODIS_A-JPL-L2P-A2008062085500.L2_LAC_GHRSST-v01.nc.bz2', '/Volumes/Bucket1/Data/ghrsst/data/L2P/MODIS_A/JPL/2008/066/20080306-MODIS_A-JPL-L2P-A2008066015500.L2_LAC_GHRSST-v01.nc.bz2', '/Volumes/Bucket1/Data/ghrsst/data/L2P/MODIS_A/JPL/2008/067/20080307-MODIS_A-JPL-L2P-A2008067010000.L2_LAC_GHRSST-v01.nc.bz2', '/Volumes/Bucket1/Data/ghrsst/data/L2P/MODIS_A/JPL/2008/074/20080314-MODIS_A-JPL-L2P-A2008074092000.L2_LAC_GHRSST-v01.nc.bz2', '/Volumes/Bucket1/Data/ghrsst/data/L2P/MODIS_A/JPL/2008/085/20080325-MODIS_A-JPL-L2P-A2008085090000.L2_LAC_GHRSST-v01.nc.bz2', '/Volumes/Bucket1/Data/ghrsst/data/L2P/MODIS_A/JPL/2008/087/20080327-MODIS_A-JPL-L2P-A2008087210500.L2_LAC_GHRSST-v01.nc.bz2', '/Volumes/Bucket1/Data/ghrsst/data/L2P/MODIS_A/JPL/2008/090/20080330-MODIS_A-JPL-L2P-A2008090091500.L2_LAC_GHRSST_D-v01.nc.bz2', '/Volumes/Bucket1/Data/ghrsst/data/L2P/MODIS_A/JPL/2008/092/20080401-MODIS_A-JPL-L2P-A2008092090500.L2_LAC_GHRSST_D-v01.nc.bz2', '/Volumes/Bucket1/Data/ghrsst/data/L2P/MODIS_A/JPL/2008/093/20080402-MODIS_A-JPL-L2P-A2008093094500.L2_LAC_GHRSST_D-v01.nc.bz2']\n"
       ]
      }
     ],
     "prompt_number": 8
    },
    {
     "cell_type": "code",
     "collapsed": false,
     "input": [],
     "language": "python",
     "metadata": {},
     "outputs": []
    }
   ],
   "metadata": {}
  }
 ]
}